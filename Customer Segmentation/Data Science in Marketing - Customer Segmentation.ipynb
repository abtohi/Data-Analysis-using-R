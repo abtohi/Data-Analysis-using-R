{
 "cells": [
  {
   "cell_type": "markdown",
   "id": "617abd45",
   "metadata": {},
   "source": [
    "### Marketing and Customer Segmentation (Business Case)\n",
    "\n",
    "source : https://youtu.be/MI3rtVyBEC8\n",
    "\n",
    "#### Kenapa Customer Segmentation Penting\n",
    "* Dapat membuat pesan pemasaran yang lebih mengena ke tiap pelanggan\n",
    "* Bisa lebih mengenal customer / pelanggan\n",
    "* Biaya pemasaran bisa menjadi lebih rendah\n",
    "\n",
    "#### Kenapa Perlu Bantuan Algoritma untuk Customer Segmentation?\n",
    "* Agar kita dapat membagi-bagi segmen customer dengan gampang\n",
    "* Dapat membantu kita menentukan jumlah clustering yang optimal\n",
    "* Dapat memberikan hasil jauh lebih cepat\n",
    "* Karena bisa memberikan best practice\n",
    "\n",
    "#### Customer Segmentation\n",
    "\n",
    "* Customer segmentation adalah proses penting yang diperlukan di bisnis untuk mengenal customer dengan lebih baik\n",
    "* Dengan demikian proses bisnis di marketing (pemasaran) dan CRM (customer relationship management) bisa dilakukan lebih tajam. Contoh: pesan marketing bisa lebih personal untuk setiap segment dengan biaya lebih optimal.\n",
    "* Dengan proses yang lebih tajam, performa bisnis berpotensi tinggi menjadi lebih baik juga.\n",
    "* Untuk menemukan segmentasi yang baik, perlu proses analisa data dari profile customer yang cukup banyak dan rutin. Ini bisa dibantu dengan algoritma komputer.\n",
    "\n",
    "#### Pengantar\n",
    "\n",
    "Persiapan data adalah langkah pertama yang perlu dilakukan sebelum menggunakan algoritma apapun untuk melakukan analisa data. Ini dikarenakan tiap implementasi algoritma menuntut struktur dan tipe data yang berbeda. Dan untuk kasus algoritma K-Means yang akan digunakan untuk otomatisasi clustering, maka struktur datanya adalah data.frame atau matrix yang di dalamnya berisi angka semua. Tidak ada yang boleh bertipe karakter.\n",
    "\n",
    "Namun pada kasus riil, hal ini tentulah tidak mungkin. Contoh, isi data profesi seperti \"Professional\", \"Ibu Rumah Tangga\" adalah teks. Dan ini perlu dikonversi dulu ke numerik, namun jika diperlukan tetap bisa kembali mengambil data teks.\n",
    "\n",
    "Berikut ini adalah langkah-langkah untuk mempersiapkan data sebelum dapat digunakan algoritma clustering:\n",
    "\n",
    "1. Mengenal Contoh File Dataset Pelanggan\n",
    "2. Membaca File dengan read.csv\n",
    "3. Vector untuk Menyimpan Nama Field\n",
    "4. Konversi Data dengan data.matrix\n",
    "5. Menggabungkan Hasil Konversi\n",
    "6. Menormalisasikan Nilai Belanja\n",
    "7. Membuat Data Master"
   ]
  },
  {
   "cell_type": "markdown",
   "id": "6df98863",
   "metadata": {},
   "source": [
    "### Dataset Customer Segments\n",
    "\n",
    "Dataset yang akan digunakan adalah data customer dengan field “Customer ID”, “Nama Pelanggan”,”Jenis Kelamin”,”Umur”, “Profesi”, “Tipe Residen” dan “Nilai Belanja Setahun” dengan tampilan sebagai berikut.\n",
    "\n",
    "![dataset](images/dataset.png)\n",
    "\n",
    "Data tersebut memiliki tujuh kolom dengan penjelasan sebagai berikut:\n",
    "\n",
    "* **Customer ID**: Kode pelanggan dengan format campuran teks CUST- diikuti angka\n",
    "* **Nama Pelanggan**: Nama dari pelanggan dengan format teks tentunya\n",
    "* **Jenis Kelamin**: Jenis kelamin dari pelanggan, hanya terdapat dua isi data kategori yaitu Pria dan Wanita\n",
    "* **Umur**: Umur dari pelanggan dalam format angka\n",
    "* **Profesi**: Profesi dari pelanggan, juga bertipe teks kategori yang terdiri dari Wiraswasta, Pelajar, Professional, Ibu Rumah Tangga, dan Mahasiswa.\n",
    "* **Tipe Residen**: Tipe tempat tinggal dari pelanggan kita, untuk dataset ini hanya ada dua kategori: Cluster dan Sector.\n",
    "* **NilaiBelanjaSetahun**: Merupakan nilai belanja customer selama setahun\n",
    "\n",
    "Terlihat kalau ada kolom yang berisi angka saja, yaitu Umur dan NilaiBelanjaSetahun. Sisanya diisi data kategori untuku kolom \"Jenis Kelamin\", \"Profesi\" dan \"Tipe Residen\". Sedangkan \"Customer ID\" dan \"Nama Pelanggan\" dianggap memiliki nilai yang unik untuk tiap baris data dan mewakili tiap individu.\n",
    "\n",
    "Karena kolom \"Customer ID\" dan \"Nama Pelanggan\" karena unik maka tidak akan dijadikan variable penentu segmentasi, namun sisa kolom lainnya akan digunakan."
   ]
  },
  {
   "cell_type": "markdown",
   "id": "7be47d87",
   "metadata": {},
   "source": [
    "### Membaca data dengan fungsi read.csv"
   ]
  },
  {
   "cell_type": "code",
   "execution_count": 3,
   "id": "38ea5d0e",
   "metadata": {},
   "outputs": [
    {
     "data": {
      "text/html": [
       "<table class=\"dataframe\">\n",
       "<caption>A data.frame: 6 × 7</caption>\n",
       "<thead>\n",
       "\t<tr><th></th><th scope=col>Customer_ID</th><th scope=col>Nama.Pelanggan</th><th scope=col>Jenis.Kelamin</th><th scope=col>Umur</th><th scope=col>Profesi</th><th scope=col>Tipe.Residen</th><th scope=col>NilaiBelanjaSetahun</th></tr>\n",
       "\t<tr><th></th><th scope=col>&lt;chr&gt;</th><th scope=col>&lt;chr&gt;</th><th scope=col>&lt;chr&gt;</th><th scope=col>&lt;int&gt;</th><th scope=col>&lt;chr&gt;</th><th scope=col>&lt;chr&gt;</th><th scope=col>&lt;int&gt;</th></tr>\n",
       "</thead>\n",
       "<tbody>\n",
       "\t<tr><th scope=row>1</th><td>CUST-001</td><td>Budi Anggara       </td><td>Pria  </td><td>58</td><td>Wiraswasta  </td><td>Sector </td><td> 9497927</td></tr>\n",
       "\t<tr><th scope=row>2</th><td>CUST-002</td><td>Shirley Ratuwati   </td><td>Wanita</td><td>14</td><td>Pelajar     </td><td>Cluster</td><td> 2722700</td></tr>\n",
       "\t<tr><th scope=row>3</th><td>CUST-003</td><td>Agus Cahyono       </td><td>Pria  </td><td>48</td><td>Professional</td><td>Cluster</td><td> 5286429</td></tr>\n",
       "\t<tr><th scope=row>4</th><td>CUST-004</td><td>Antonius Winarta   </td><td>Pria  </td><td>53</td><td>Professional</td><td>Cluster</td><td> 5204498</td></tr>\n",
       "\t<tr><th scope=row>5</th><td>CUST-005</td><td>Ibu Sri Wahyuni, IR</td><td>Wanita</td><td>41</td><td>Wiraswasta  </td><td>Cluster</td><td>10615206</td></tr>\n",
       "\t<tr><th scope=row>6</th><td>CUST-006</td><td>Rosalina Kurnia    </td><td>Wanita</td><td>24</td><td>Professional</td><td>Cluster</td><td> 5215541</td></tr>\n",
       "</tbody>\n",
       "</table>\n"
      ],
      "text/latex": [
       "A data.frame: 6 × 7\n",
       "\\begin{tabular}{r|lllllll}\n",
       "  & Customer\\_ID & Nama.Pelanggan & Jenis.Kelamin & Umur & Profesi & Tipe.Residen & NilaiBelanjaSetahun\\\\\n",
       "  & <chr> & <chr> & <chr> & <int> & <chr> & <chr> & <int>\\\\\n",
       "\\hline\n",
       "\t1 & CUST-001 & Budi Anggara        & Pria   & 58 & Wiraswasta   & Sector  &  9497927\\\\\n",
       "\t2 & CUST-002 & Shirley Ratuwati    & Wanita & 14 & Pelajar      & Cluster &  2722700\\\\\n",
       "\t3 & CUST-003 & Agus Cahyono        & Pria   & 48 & Professional & Cluster &  5286429\\\\\n",
       "\t4 & CUST-004 & Antonius Winarta    & Pria   & 53 & Professional & Cluster &  5204498\\\\\n",
       "\t5 & CUST-005 & Ibu Sri Wahyuni, IR & Wanita & 41 & Wiraswasta   & Cluster & 10615206\\\\\n",
       "\t6 & CUST-006 & Rosalina Kurnia     & Wanita & 24 & Professional & Cluster &  5215541\\\\\n",
       "\\end{tabular}\n"
      ],
      "text/markdown": [
       "\n",
       "A data.frame: 6 × 7\n",
       "\n",
       "| <!--/--> | Customer_ID &lt;chr&gt; | Nama.Pelanggan &lt;chr&gt; | Jenis.Kelamin &lt;chr&gt; | Umur &lt;int&gt; | Profesi &lt;chr&gt; | Tipe.Residen &lt;chr&gt; | NilaiBelanjaSetahun &lt;int&gt; |\n",
       "|---|---|---|---|---|---|---|---|\n",
       "| 1 | CUST-001 | Budi Anggara        | Pria   | 58 | Wiraswasta   | Sector  |  9497927 |\n",
       "| 2 | CUST-002 | Shirley Ratuwati    | Wanita | 14 | Pelajar      | Cluster |  2722700 |\n",
       "| 3 | CUST-003 | Agus Cahyono        | Pria   | 48 | Professional | Cluster |  5286429 |\n",
       "| 4 | CUST-004 | Antonius Winarta    | Pria   | 53 | Professional | Cluster |  5204498 |\n",
       "| 5 | CUST-005 | Ibu Sri Wahyuni, IR | Wanita | 41 | Wiraswasta   | Cluster | 10615206 |\n",
       "| 6 | CUST-006 | Rosalina Kurnia     | Wanita | 24 | Professional | Cluster |  5215541 |\n",
       "\n"
      ],
      "text/plain": [
       "  Customer_ID Nama.Pelanggan      Jenis.Kelamin Umur Profesi      Tipe.Residen\n",
       "1 CUST-001    Budi Anggara        Pria          58   Wiraswasta   Sector      \n",
       "2 CUST-002    Shirley Ratuwati    Wanita        14   Pelajar      Cluster     \n",
       "3 CUST-003    Agus Cahyono        Pria          48   Professional Cluster     \n",
       "4 CUST-004    Antonius Winarta    Pria          53   Professional Cluster     \n",
       "5 CUST-005    Ibu Sri Wahyuni, IR Wanita        41   Wiraswasta   Cluster     \n",
       "6 CUST-006    Rosalina Kurnia     Wanita        24   Professional Cluster     \n",
       "  NilaiBelanjaSetahun\n",
       "1  9497927           \n",
       "2  2722700           \n",
       "3  5286429           \n",
       "4  5204498           \n",
       "5 10615206           \n",
       "6  5215541           "
      ]
     },
     "metadata": {},
     "output_type": "display_data"
    }
   ],
   "source": [
    "pelanggan<-read.csv(\"dataset/customer_segments.txt\",sep=\"\\t\")\n",
    "head(pelanggan)"
   ]
  },
  {
   "cell_type": "markdown",
   "id": "34905557",
   "metadata": {},
   "source": [
    "Terlihat isi data dengan enam kolom dan terdapat nomor baris pada tiap data yang ditampilkan.\n",
    "\n",
    "Perhatikan jika nama kolom asal terdapat karakter spasi, akan diubah menjadi tanda titik setelah dibaca dengan read.csv. Sebagai contoh, \"Nama Pelanggan\" diubah menjadi \"Nama.Pelanggan\".\n",
    "\n",
    "Jika hanya ingin menampilkan beberapa kolom tertentu, misalkan untuk kolom \"Jenis.Kelamin\" dan \"Profesi\" maka perintahnya adalah sebagai berikut."
   ]
  },
  {
   "cell_type": "code",
   "execution_count": 5,
   "id": "ca6688fc",
   "metadata": {
    "scrolled": true
   },
   "outputs": [
    {
     "data": {
      "text/html": [
       "<table class=\"dataframe\">\n",
       "<caption>A data.frame: 6 × 2</caption>\n",
       "<thead>\n",
       "\t<tr><th></th><th scope=col>Nama.Pelanggan</th><th scope=col>Profesi</th></tr>\n",
       "\t<tr><th></th><th scope=col>&lt;chr&gt;</th><th scope=col>&lt;chr&gt;</th></tr>\n",
       "</thead>\n",
       "<tbody>\n",
       "\t<tr><th scope=row>1</th><td>Budi Anggara       </td><td>Wiraswasta  </td></tr>\n",
       "\t<tr><th scope=row>2</th><td>Shirley Ratuwati   </td><td>Pelajar     </td></tr>\n",
       "\t<tr><th scope=row>3</th><td>Agus Cahyono       </td><td>Professional</td></tr>\n",
       "\t<tr><th scope=row>4</th><td>Antonius Winarta   </td><td>Professional</td></tr>\n",
       "\t<tr><th scope=row>5</th><td>Ibu Sri Wahyuni, IR</td><td>Wiraswasta  </td></tr>\n",
       "\t<tr><th scope=row>6</th><td>Rosalina Kurnia    </td><td>Professional</td></tr>\n",
       "</tbody>\n",
       "</table>\n"
      ],
      "text/latex": [
       "A data.frame: 6 × 2\n",
       "\\begin{tabular}{r|ll}\n",
       "  & Nama.Pelanggan & Profesi\\\\\n",
       "  & <chr> & <chr>\\\\\n",
       "\\hline\n",
       "\t1 & Budi Anggara        & Wiraswasta  \\\\\n",
       "\t2 & Shirley Ratuwati    & Pelajar     \\\\\n",
       "\t3 & Agus Cahyono        & Professional\\\\\n",
       "\t4 & Antonius Winarta    & Professional\\\\\n",
       "\t5 & Ibu Sri Wahyuni, IR & Wiraswasta  \\\\\n",
       "\t6 & Rosalina Kurnia     & Professional\\\\\n",
       "\\end{tabular}\n"
      ],
      "text/markdown": [
       "\n",
       "A data.frame: 6 × 2\n",
       "\n",
       "| <!--/--> | Nama.Pelanggan &lt;chr&gt; | Profesi &lt;chr&gt; |\n",
       "|---|---|---|\n",
       "| 1 | Budi Anggara        | Wiraswasta   |\n",
       "| 2 | Shirley Ratuwati    | Pelajar      |\n",
       "| 3 | Agus Cahyono        | Professional |\n",
       "| 4 | Antonius Winarta    | Professional |\n",
       "| 5 | Ibu Sri Wahyuni, IR | Wiraswasta   |\n",
       "| 6 | Rosalina Kurnia     | Professional |\n",
       "\n"
      ],
      "text/plain": [
       "  Nama.Pelanggan      Profesi     \n",
       "1 Budi Anggara        Wiraswasta  \n",
       "2 Shirley Ratuwati    Pelajar     \n",
       "3 Agus Cahyono        Professional\n",
       "4 Antonius Winarta    Professional\n",
       "5 Ibu Sri Wahyuni, IR Wiraswasta  \n",
       "6 Rosalina Kurnia     Professional"
      ]
     },
     "metadata": {},
     "output_type": "display_data"
    }
   ],
   "source": [
    "head(pelanggan[c(\"Nama.Pelanggan\",\"Profesi\")])"
   ]
  },
  {
   "cell_type": "markdown",
   "id": "b51c18bb",
   "metadata": {},
   "source": [
    "#### Vector untuk Menyimpan Nama Field"
   ]
  },
  {
   "cell_type": "code",
   "execution_count": 8,
   "id": "8c870d0b",
   "metadata": {},
   "outputs": [
    {
     "data": {
      "text/html": [
       "<table class=\"dataframe\">\n",
       "<caption>A data.frame: 6 × 3</caption>\n",
       "<thead>\n",
       "\t<tr><th></th><th scope=col>Jenis.Kelamin</th><th scope=col>Umur</th><th scope=col>Profesi</th></tr>\n",
       "\t<tr><th></th><th scope=col>&lt;chr&gt;</th><th scope=col>&lt;int&gt;</th><th scope=col>&lt;chr&gt;</th></tr>\n",
       "</thead>\n",
       "<tbody>\n",
       "\t<tr><th scope=row>1</th><td>Pria  </td><td>58</td><td>Wiraswasta  </td></tr>\n",
       "\t<tr><th scope=row>2</th><td>Wanita</td><td>14</td><td>Pelajar     </td></tr>\n",
       "\t<tr><th scope=row>3</th><td>Pria  </td><td>48</td><td>Professional</td></tr>\n",
       "\t<tr><th scope=row>4</th><td>Pria  </td><td>53</td><td>Professional</td></tr>\n",
       "\t<tr><th scope=row>5</th><td>Wanita</td><td>41</td><td>Wiraswasta  </td></tr>\n",
       "\t<tr><th scope=row>6</th><td>Wanita</td><td>24</td><td>Professional</td></tr>\n",
       "</tbody>\n",
       "</table>\n"
      ],
      "text/latex": [
       "A data.frame: 6 × 3\n",
       "\\begin{tabular}{r|lll}\n",
       "  & Jenis.Kelamin & Umur & Profesi\\\\\n",
       "  & <chr> & <int> & <chr>\\\\\n",
       "\\hline\n",
       "\t1 & Pria   & 58 & Wiraswasta  \\\\\n",
       "\t2 & Wanita & 14 & Pelajar     \\\\\n",
       "\t3 & Pria   & 48 & Professional\\\\\n",
       "\t4 & Pria   & 53 & Professional\\\\\n",
       "\t5 & Wanita & 41 & Wiraswasta  \\\\\n",
       "\t6 & Wanita & 24 & Professional\\\\\n",
       "\\end{tabular}\n"
      ],
      "text/markdown": [
       "\n",
       "A data.frame: 6 × 3\n",
       "\n",
       "| <!--/--> | Jenis.Kelamin &lt;chr&gt; | Umur &lt;int&gt; | Profesi &lt;chr&gt; |\n",
       "|---|---|---|---|\n",
       "| 1 | Pria   | 58 | Wiraswasta   |\n",
       "| 2 | Wanita | 14 | Pelajar      |\n",
       "| 3 | Pria   | 48 | Professional |\n",
       "| 4 | Pria   | 53 | Professional |\n",
       "| 5 | Wanita | 41 | Wiraswasta   |\n",
       "| 6 | Wanita | 24 | Professional |\n",
       "\n"
      ],
      "text/plain": [
       "  Jenis.Kelamin Umur Profesi     \n",
       "1 Pria          58   Wiraswasta  \n",
       "2 Wanita        14   Pelajar     \n",
       "3 Pria          48   Professional\n",
       "4 Pria          53   Professional\n",
       "5 Wanita        41   Wiraswasta  \n",
       "6 Wanita        24   Professional"
      ]
     },
     "metadata": {},
     "output_type": "display_data"
    }
   ],
   "source": [
    "field_yang_digunakan<-c(\"Jenis.Kelamin\", \"Umur\", \"Profesi\")\n",
    "head(pelanggan[field_yang_digunakan])"
   ]
  },
  {
   "cell_type": "markdown",
   "id": "8e735724",
   "metadata": {},
   "source": [
    "### Konversi Data dengan data.matrix\n",
    "\n",
    "Isi data dari tiga kolom pelanggan yaitu \"Jenis.Kelamin\", \"Profesi\" dan \"Tipe.Residen\" merupakan data kategori yang berupa teks, untuk fungsi **k-means**, ketiga kolom ini tidak bisa digunakan kecuali isi dikonversi menjadi numerik. Salah satu caranya adalah dengan menggunakan fungsi **data.matrix**.\n",
    "\n",
    "Perintahnya sebagai berikut."
   ]
  },
  {
   "cell_type": "code",
   "execution_count": 10,
   "id": "7b37ad7b",
   "metadata": {},
   "outputs": [
    {
     "data": {
      "text/html": [
       "<table class=\"dataframe\">\n",
       "<caption>A matrix: 6 × 2 of type int</caption>\n",
       "<thead>\n",
       "\t<tr><th scope=col>Jenis.Kelamin</th><th scope=col>Profesi</th></tr>\n",
       "</thead>\n",
       "<tbody>\n",
       "\t<tr><td>1</td><td>5</td></tr>\n",
       "\t<tr><td>2</td><td>3</td></tr>\n",
       "\t<tr><td>1</td><td>4</td></tr>\n",
       "\t<tr><td>1</td><td>4</td></tr>\n",
       "\t<tr><td>2</td><td>5</td></tr>\n",
       "\t<tr><td>2</td><td>4</td></tr>\n",
       "</tbody>\n",
       "</table>\n"
      ],
      "text/latex": [
       "A matrix: 6 × 2 of type int\n",
       "\\begin{tabular}{ll}\n",
       " Jenis.Kelamin & Profesi\\\\\n",
       "\\hline\n",
       "\t 1 & 5\\\\\n",
       "\t 2 & 3\\\\\n",
       "\t 1 & 4\\\\\n",
       "\t 1 & 4\\\\\n",
       "\t 2 & 5\\\\\n",
       "\t 2 & 4\\\\\n",
       "\\end{tabular}\n"
      ],
      "text/markdown": [
       "\n",
       "A matrix: 6 × 2 of type int\n",
       "\n",
       "| Jenis.Kelamin | Profesi |\n",
       "|---|---|\n",
       "| 1 | 5 |\n",
       "| 2 | 3 |\n",
       "| 1 | 4 |\n",
       "| 1 | 4 |\n",
       "| 2 | 5 |\n",
       "| 2 | 4 |\n",
       "\n"
      ],
      "text/plain": [
       "     Jenis.Kelamin Profesi\n",
       "[1,] 1             5      \n",
       "[2,] 2             3      \n",
       "[3,] 1             4      \n",
       "[4,] 1             4      \n",
       "[5,] 2             5      \n",
       "[6,] 2             4      "
      ]
     },
     "metadata": {},
     "output_type": "display_data"
    }
   ],
   "source": [
    "head(data.matrix(pelanggan[c(\"Jenis.Kelamin\", \"Profesi\")]))"
   ]
  },
  {
   "cell_type": "markdown",
   "id": "3fb4ff61",
   "metadata": {},
   "source": [
    "Perintah ini akan mengkonversi data pelanggan pada kolom \"Jenis.Kelamin\" dan \"Profesi\" yang diwakili oleh \n",
    "\n",
    "    pelanggan[c(\"Jenis.Kelamin\", \"Profesi\")] \n",
    "\n",
    "menjadi numerik.\n",
    "\n",
    "![konversi](images/konversi.png)\n",
    "\n",
    "Terlihat, teks \"Pria\" diubah menjadi angka 1, \"Wanita\" diubah menjadi angka 2, \"Wiraswasta\" diubah menjadi angka 5, dan seterusnya."
   ]
  },
  {
   "cell_type": "markdown",
   "id": "830272ff",
   "metadata": {},
   "source": [
    "### Menggabungkan Hasil Konversi\n",
    "\n",
    "Setelah melakukan konversi ke angka, data perlu digabungkan kembali variable asal.\n",
    "Ini berguna terutama ketika akan mengenali data pelanggan baru masuk ke segment mana.\n",
    "\n",
    "Untuk menggabungkan data hasil konversi data.matrix ke pelanggan, dapat digunakan function data.frame.\n",
    "\n",
    "Sebagai contoh, untuk menggabungkan variable pelanggan dan pelanggan_matrix maka perintahnya adalah sebagai berikut.\n",
    "\n",
    "    data.frame(pelanggan, pelanggan_matrix)"
   ]
  },
  {
   "cell_type": "code",
   "execution_count": 24,
   "id": "0cc1696d",
   "metadata": {},
   "outputs": [
    {
     "data": {
      "text/html": [
       "<table class=\"dataframe\">\n",
       "<caption>A data.frame: 6 × 10</caption>\n",
       "<thead>\n",
       "\t<tr><th></th><th scope=col>Customer_ID</th><th scope=col>Nama.Pelanggan</th><th scope=col>Jenis.Kelamin</th><th scope=col>Umur</th><th scope=col>Profesi</th><th scope=col>Tipe.Residen</th><th scope=col>NilaiBelanjaSetahun</th><th scope=col>Jenis.Kelamin.1</th><th scope=col>Profesi.1</th><th scope=col>Tipe.Residen.1</th></tr>\n",
       "\t<tr><th></th><th scope=col>&lt;chr&gt;</th><th scope=col>&lt;chr&gt;</th><th scope=col>&lt;chr&gt;</th><th scope=col>&lt;int&gt;</th><th scope=col>&lt;chr&gt;</th><th scope=col>&lt;chr&gt;</th><th scope=col>&lt;dbl&gt;</th><th scope=col>&lt;int&gt;</th><th scope=col>&lt;int&gt;</th><th scope=col>&lt;int&gt;</th></tr>\n",
       "</thead>\n",
       "<tbody>\n",
       "\t<tr><th scope=row>1</th><td>CUST-001</td><td>Budi Anggara       </td><td>Pria  </td><td>58</td><td>Wiraswasta  </td><td>Sector </td><td>9.497927e-30</td><td>1</td><td>5</td><td>2</td></tr>\n",
       "\t<tr><th scope=row>2</th><td>CUST-002</td><td>Shirley Ratuwati   </td><td>Wanita</td><td>14</td><td>Pelajar     </td><td>Cluster</td><td>2.722700e-30</td><td>2</td><td>3</td><td>1</td></tr>\n",
       "\t<tr><th scope=row>3</th><td>CUST-003</td><td>Agus Cahyono       </td><td>Pria  </td><td>48</td><td>Professional</td><td>Cluster</td><td>5.286429e-30</td><td>1</td><td>4</td><td>1</td></tr>\n",
       "\t<tr><th scope=row>4</th><td>CUST-004</td><td>Antonius Winarta   </td><td>Pria  </td><td>53</td><td>Professional</td><td>Cluster</td><td>5.204498e-30</td><td>1</td><td>4</td><td>1</td></tr>\n",
       "\t<tr><th scope=row>5</th><td>CUST-005</td><td>Ibu Sri Wahyuni, IR</td><td>Wanita</td><td>41</td><td>Wiraswasta  </td><td>Cluster</td><td>1.061521e-29</td><td>2</td><td>5</td><td>1</td></tr>\n",
       "\t<tr><th scope=row>6</th><td>CUST-006</td><td>Rosalina Kurnia    </td><td>Wanita</td><td>24</td><td>Professional</td><td>Cluster</td><td>5.215541e-30</td><td>2</td><td>4</td><td>1</td></tr>\n",
       "</tbody>\n",
       "</table>\n"
      ],
      "text/latex": [
       "A data.frame: 6 × 10\n",
       "\\begin{tabular}{r|llllllllll}\n",
       "  & Customer\\_ID & Nama.Pelanggan & Jenis.Kelamin & Umur & Profesi & Tipe.Residen & NilaiBelanjaSetahun & Jenis.Kelamin.1 & Profesi.1 & Tipe.Residen.1\\\\\n",
       "  & <chr> & <chr> & <chr> & <int> & <chr> & <chr> & <dbl> & <int> & <int> & <int>\\\\\n",
       "\\hline\n",
       "\t1 & CUST-001 & Budi Anggara        & Pria   & 58 & Wiraswasta   & Sector  & 9.497927e-30 & 1 & 5 & 2\\\\\n",
       "\t2 & CUST-002 & Shirley Ratuwati    & Wanita & 14 & Pelajar      & Cluster & 2.722700e-30 & 2 & 3 & 1\\\\\n",
       "\t3 & CUST-003 & Agus Cahyono        & Pria   & 48 & Professional & Cluster & 5.286429e-30 & 1 & 4 & 1\\\\\n",
       "\t4 & CUST-004 & Antonius Winarta    & Pria   & 53 & Professional & Cluster & 5.204498e-30 & 1 & 4 & 1\\\\\n",
       "\t5 & CUST-005 & Ibu Sri Wahyuni, IR & Wanita & 41 & Wiraswasta   & Cluster & 1.061521e-29 & 2 & 5 & 1\\\\\n",
       "\t6 & CUST-006 & Rosalina Kurnia     & Wanita & 24 & Professional & Cluster & 5.215541e-30 & 2 & 4 & 1\\\\\n",
       "\\end{tabular}\n"
      ],
      "text/markdown": [
       "\n",
       "A data.frame: 6 × 10\n",
       "\n",
       "| <!--/--> | Customer_ID &lt;chr&gt; | Nama.Pelanggan &lt;chr&gt; | Jenis.Kelamin &lt;chr&gt; | Umur &lt;int&gt; | Profesi &lt;chr&gt; | Tipe.Residen &lt;chr&gt; | NilaiBelanjaSetahun &lt;dbl&gt; | Jenis.Kelamin.1 &lt;int&gt; | Profesi.1 &lt;int&gt; | Tipe.Residen.1 &lt;int&gt; |\n",
       "|---|---|---|---|---|---|---|---|---|---|---|\n",
       "| 1 | CUST-001 | Budi Anggara        | Pria   | 58 | Wiraswasta   | Sector  | 9.497927e-30 | 1 | 5 | 2 |\n",
       "| 2 | CUST-002 | Shirley Ratuwati    | Wanita | 14 | Pelajar      | Cluster | 2.722700e-30 | 2 | 3 | 1 |\n",
       "| 3 | CUST-003 | Agus Cahyono        | Pria   | 48 | Professional | Cluster | 5.286429e-30 | 1 | 4 | 1 |\n",
       "| 4 | CUST-004 | Antonius Winarta    | Pria   | 53 | Professional | Cluster | 5.204498e-30 | 1 | 4 | 1 |\n",
       "| 5 | CUST-005 | Ibu Sri Wahyuni, IR | Wanita | 41 | Wiraswasta   | Cluster | 1.061521e-29 | 2 | 5 | 1 |\n",
       "| 6 | CUST-006 | Rosalina Kurnia     | Wanita | 24 | Professional | Cluster | 5.215541e-30 | 2 | 4 | 1 |\n",
       "\n"
      ],
      "text/plain": [
       "  Customer_ID Nama.Pelanggan      Jenis.Kelamin Umur Profesi      Tipe.Residen\n",
       "1 CUST-001    Budi Anggara        Pria          58   Wiraswasta   Sector      \n",
       "2 CUST-002    Shirley Ratuwati    Wanita        14   Pelajar      Cluster     \n",
       "3 CUST-003    Agus Cahyono        Pria          48   Professional Cluster     \n",
       "4 CUST-004    Antonius Winarta    Pria          53   Professional Cluster     \n",
       "5 CUST-005    Ibu Sri Wahyuni, IR Wanita        41   Wiraswasta   Cluster     \n",
       "6 CUST-006    Rosalina Kurnia     Wanita        24   Professional Cluster     \n",
       "  NilaiBelanjaSetahun Jenis.Kelamin.1 Profesi.1 Tipe.Residen.1\n",
       "1 9.497927e-30        1               5         2             \n",
       "2 2.722700e-30        2               3         1             \n",
       "3 5.286429e-30        1               4         1             \n",
       "4 5.204498e-30        1               4         1             \n",
       "5 1.061521e-29        2               5         1             \n",
       "6 5.215541e-30        2               4         1             "
      ]
     },
     "metadata": {},
     "output_type": "display_data"
    }
   ],
   "source": [
    "#Konversi data ke dalam bentuk angka matrix\n",
    "pelanggan_matrix <- data.matrix(pelanggan[c(\"Jenis.Kelamin\", \"Profesi\", \"Tipe.Residen\")])\n",
    "#Penggabungan data\n",
    "pelanggan <- data.frame(pelanggan, pelanggan_matrix)\n",
    "#Tampilkan kembali data hasil penggabungan\n",
    "head(pelanggan)"
   ]
  },
  {
   "cell_type": "markdown",
   "id": "e4a44525",
   "metadata": {},
   "source": [
    "Akhiran .1 ini ditambahkan karena di variable pelanggan sudah ada nama kolom yang sama.\n",
    "\n",
    "Sebagai contoh kolom \"Jenis.Kelamin\" yang terdapat pada pelanggan_matrix sudah ada juga di variable pelanggan. Jadi ketika digabungkan, R akan menambahkan akhiran .1 untuk kolom \"Jenis.Kelamin\" yang terdapat di pelanggan_matrix."
   ]
  },
  {
   "cell_type": "markdown",
   "id": "d545c699",
   "metadata": {},
   "source": [
    "### Menormalisasikan Nilai Belanja\n",
    "\n",
    "Perhatikan kolom \"NilaiBelanjaSetahun\" isi datanya bernilai jutaan. Ketika kolom ini digunakan untuk clustering, perhitungan sum of squared errors (pada bab kmeans) akan menjadi sangat besar.\n",
    "\n",
    "Oleh sebab itu perlu dilakukan normalisasi nilainya agar perhitungan lebih sederhana dan mudah dicerna, namun tidak mengurangi akurasi. Ini terutama akan sangat bermanfaat jika jumlah data sangat banyak, misalkan memiliki 200 ribu data.\n",
    "\n",
    "Normalisasi bisa dilakukan dengan banyak cara. Dalam kasus ini, cukup dengan pembagian sehingga nilai jutaan menjadi puluhan."
   ]
  },
  {
   "cell_type": "code",
   "execution_count": 25,
   "id": "dcc6e905",
   "metadata": {},
   "outputs": [
    {
     "data": {
      "text/html": [
       "<table class=\"dataframe\">\n",
       "<caption>A data.frame: 6 × 10</caption>\n",
       "<thead>\n",
       "\t<tr><th></th><th scope=col>Customer_ID</th><th scope=col>Nama.Pelanggan</th><th scope=col>Jenis.Kelamin</th><th scope=col>Umur</th><th scope=col>Profesi</th><th scope=col>Tipe.Residen</th><th scope=col>NilaiBelanjaSetahun</th><th scope=col>Jenis.Kelamin.1</th><th scope=col>Profesi.1</th><th scope=col>Tipe.Residen.1</th></tr>\n",
       "\t<tr><th></th><th scope=col>&lt;chr&gt;</th><th scope=col>&lt;chr&gt;</th><th scope=col>&lt;chr&gt;</th><th scope=col>&lt;int&gt;</th><th scope=col>&lt;chr&gt;</th><th scope=col>&lt;chr&gt;</th><th scope=col>&lt;dbl&gt;</th><th scope=col>&lt;int&gt;</th><th scope=col>&lt;int&gt;</th><th scope=col>&lt;int&gt;</th></tr>\n",
       "</thead>\n",
       "<tbody>\n",
       "\t<tr><th scope=row>1</th><td>CUST-001</td><td>Budi Anggara       </td><td>Pria  </td><td>58</td><td>Wiraswasta  </td><td>Sector </td><td>9.497927e-36</td><td>1</td><td>5</td><td>2</td></tr>\n",
       "\t<tr><th scope=row>2</th><td>CUST-002</td><td>Shirley Ratuwati   </td><td>Wanita</td><td>14</td><td>Pelajar     </td><td>Cluster</td><td>2.722700e-36</td><td>2</td><td>3</td><td>1</td></tr>\n",
       "\t<tr><th scope=row>3</th><td>CUST-003</td><td>Agus Cahyono       </td><td>Pria  </td><td>48</td><td>Professional</td><td>Cluster</td><td>5.286429e-36</td><td>1</td><td>4</td><td>1</td></tr>\n",
       "\t<tr><th scope=row>4</th><td>CUST-004</td><td>Antonius Winarta   </td><td>Pria  </td><td>53</td><td>Professional</td><td>Cluster</td><td>5.204498e-36</td><td>1</td><td>4</td><td>1</td></tr>\n",
       "\t<tr><th scope=row>5</th><td>CUST-005</td><td>Ibu Sri Wahyuni, IR</td><td>Wanita</td><td>41</td><td>Wiraswasta  </td><td>Cluster</td><td>1.061521e-35</td><td>2</td><td>5</td><td>1</td></tr>\n",
       "\t<tr><th scope=row>6</th><td>CUST-006</td><td>Rosalina Kurnia    </td><td>Wanita</td><td>24</td><td>Professional</td><td>Cluster</td><td>5.215541e-36</td><td>2</td><td>4</td><td>1</td></tr>\n",
       "</tbody>\n",
       "</table>\n"
      ],
      "text/latex": [
       "A data.frame: 6 × 10\n",
       "\\begin{tabular}{r|llllllllll}\n",
       "  & Customer\\_ID & Nama.Pelanggan & Jenis.Kelamin & Umur & Profesi & Tipe.Residen & NilaiBelanjaSetahun & Jenis.Kelamin.1 & Profesi.1 & Tipe.Residen.1\\\\\n",
       "  & <chr> & <chr> & <chr> & <int> & <chr> & <chr> & <dbl> & <int> & <int> & <int>\\\\\n",
       "\\hline\n",
       "\t1 & CUST-001 & Budi Anggara        & Pria   & 58 & Wiraswasta   & Sector  & 9.497927e-36 & 1 & 5 & 2\\\\\n",
       "\t2 & CUST-002 & Shirley Ratuwati    & Wanita & 14 & Pelajar      & Cluster & 2.722700e-36 & 2 & 3 & 1\\\\\n",
       "\t3 & CUST-003 & Agus Cahyono        & Pria   & 48 & Professional & Cluster & 5.286429e-36 & 1 & 4 & 1\\\\\n",
       "\t4 & CUST-004 & Antonius Winarta    & Pria   & 53 & Professional & Cluster & 5.204498e-36 & 1 & 4 & 1\\\\\n",
       "\t5 & CUST-005 & Ibu Sri Wahyuni, IR & Wanita & 41 & Wiraswasta   & Cluster & 1.061521e-35 & 2 & 5 & 1\\\\\n",
       "\t6 & CUST-006 & Rosalina Kurnia     & Wanita & 24 & Professional & Cluster & 5.215541e-36 & 2 & 4 & 1\\\\\n",
       "\\end{tabular}\n"
      ],
      "text/markdown": [
       "\n",
       "A data.frame: 6 × 10\n",
       "\n",
       "| <!--/--> | Customer_ID &lt;chr&gt; | Nama.Pelanggan &lt;chr&gt; | Jenis.Kelamin &lt;chr&gt; | Umur &lt;int&gt; | Profesi &lt;chr&gt; | Tipe.Residen &lt;chr&gt; | NilaiBelanjaSetahun &lt;dbl&gt; | Jenis.Kelamin.1 &lt;int&gt; | Profesi.1 &lt;int&gt; | Tipe.Residen.1 &lt;int&gt; |\n",
       "|---|---|---|---|---|---|---|---|---|---|---|\n",
       "| 1 | CUST-001 | Budi Anggara        | Pria   | 58 | Wiraswasta   | Sector  | 9.497927e-36 | 1 | 5 | 2 |\n",
       "| 2 | CUST-002 | Shirley Ratuwati    | Wanita | 14 | Pelajar      | Cluster | 2.722700e-36 | 2 | 3 | 1 |\n",
       "| 3 | CUST-003 | Agus Cahyono        | Pria   | 48 | Professional | Cluster | 5.286429e-36 | 1 | 4 | 1 |\n",
       "| 4 | CUST-004 | Antonius Winarta    | Pria   | 53 | Professional | Cluster | 5.204498e-36 | 1 | 4 | 1 |\n",
       "| 5 | CUST-005 | Ibu Sri Wahyuni, IR | Wanita | 41 | Wiraswasta   | Cluster | 1.061521e-35 | 2 | 5 | 1 |\n",
       "| 6 | CUST-006 | Rosalina Kurnia     | Wanita | 24 | Professional | Cluster | 5.215541e-36 | 2 | 4 | 1 |\n",
       "\n"
      ],
      "text/plain": [
       "  Customer_ID Nama.Pelanggan      Jenis.Kelamin Umur Profesi      Tipe.Residen\n",
       "1 CUST-001    Budi Anggara        Pria          58   Wiraswasta   Sector      \n",
       "2 CUST-002    Shirley Ratuwati    Wanita        14   Pelajar      Cluster     \n",
       "3 CUST-003    Agus Cahyono        Pria          48   Professional Cluster     \n",
       "4 CUST-004    Antonius Winarta    Pria          53   Professional Cluster     \n",
       "5 CUST-005    Ibu Sri Wahyuni, IR Wanita        41   Wiraswasta   Cluster     \n",
       "6 CUST-006    Rosalina Kurnia     Wanita        24   Professional Cluster     \n",
       "  NilaiBelanjaSetahun Jenis.Kelamin.1 Profesi.1 Tipe.Residen.1\n",
       "1 9.497927e-36        1               5         2             \n",
       "2 2.722700e-36        2               3         1             \n",
       "3 5.286429e-36        1               4         1             \n",
       "4 5.204498e-36        1               4         1             \n",
       "5 1.061521e-35        2               5         1             \n",
       "6 5.215541e-36        2               4         1             "
      ]
     },
     "metadata": {},
     "output_type": "display_data"
    }
   ],
   "source": [
    "#Normalisasi Nilai\n",
    "pelanggan$NilaiBelanjaSetahun <- pelanggan$NilaiBelanjaSetahun / 1000000\n",
    "head(pelanggan)"
   ]
  },
  {
   "cell_type": "markdown",
   "id": "1a00d7b6",
   "metadata": {},
   "source": [
    "### Membuat Data Master\n",
    "\n",
    "Setelah penggabungan data, maka dapat diketahui sebenarnya teks kategori dikonversi menjadi angka numerik berapa.\n",
    "\n",
    "Contoh :"
   ]
  },
  {
   "cell_type": "code",
   "execution_count": 27,
   "id": "a2da4447",
   "metadata": {},
   "outputs": [
    {
     "data": {
      "text/html": [
       "<table class=\"dataframe\">\n",
       "<caption>A data.frame: 10 × 2</caption>\n",
       "<thead>\n",
       "\t<tr><th></th><th scope=col>Profesi</th><th scope=col>Profesi.1</th></tr>\n",
       "\t<tr><th></th><th scope=col>&lt;chr&gt;</th><th scope=col>&lt;int&gt;</th></tr>\n",
       "</thead>\n",
       "<tbody>\n",
       "\t<tr><th scope=row>1</th><td>Wiraswasta  </td><td>5</td></tr>\n",
       "\t<tr><th scope=row>2</th><td>Pelajar     </td><td>3</td></tr>\n",
       "\t<tr><th scope=row>3</th><td>Professional</td><td>4</td></tr>\n",
       "\t<tr><th scope=row>4</th><td>Professional</td><td>4</td></tr>\n",
       "\t<tr><th scope=row>5</th><td>Wiraswasta  </td><td>5</td></tr>\n",
       "\t<tr><th scope=row>6</th><td>Professional</td><td>4</td></tr>\n",
       "\t<tr><th scope=row>7</th><td>Wiraswasta  </td><td>5</td></tr>\n",
       "\t<tr><th scope=row>8</th><td>Professional</td><td>4</td></tr>\n",
       "\t<tr><th scope=row>9</th><td>Professional</td><td>4</td></tr>\n",
       "\t<tr><th scope=row>10</th><td>Professional</td><td>4</td></tr>\n",
       "</tbody>\n",
       "</table>\n"
      ],
      "text/latex": [
       "A data.frame: 10 × 2\n",
       "\\begin{tabular}{r|ll}\n",
       "  & Profesi & Profesi.1\\\\\n",
       "  & <chr> & <int>\\\\\n",
       "\\hline\n",
       "\t1 & Wiraswasta   & 5\\\\\n",
       "\t2 & Pelajar      & 3\\\\\n",
       "\t3 & Professional & 4\\\\\n",
       "\t4 & Professional & 4\\\\\n",
       "\t5 & Wiraswasta   & 5\\\\\n",
       "\t6 & Professional & 4\\\\\n",
       "\t7 & Wiraswasta   & 5\\\\\n",
       "\t8 & Professional & 4\\\\\n",
       "\t9 & Professional & 4\\\\\n",
       "\t10 & Professional & 4\\\\\n",
       "\\end{tabular}\n"
      ],
      "text/markdown": [
       "\n",
       "A data.frame: 10 × 2\n",
       "\n",
       "| <!--/--> | Profesi &lt;chr&gt; | Profesi.1 &lt;int&gt; |\n",
       "|---|---|---|\n",
       "| 1 | Wiraswasta   | 5 |\n",
       "| 2 | Pelajar      | 3 |\n",
       "| 3 | Professional | 4 |\n",
       "| 4 | Professional | 4 |\n",
       "| 5 | Wiraswasta   | 5 |\n",
       "| 6 | Professional | 4 |\n",
       "| 7 | Wiraswasta   | 5 |\n",
       "| 8 | Professional | 4 |\n",
       "| 9 | Professional | 4 |\n",
       "| 10 | Professional | 4 |\n",
       "\n"
      ],
      "text/plain": [
       "   Profesi      Profesi.1\n",
       "1  Wiraswasta   5        \n",
       "2  Pelajar      3        \n",
       "3  Professional 4        \n",
       "4  Professional 4        \n",
       "5  Wiraswasta   5        \n",
       "6  Professional 4        \n",
       "7  Wiraswasta   5        \n",
       "8  Professional 4        \n",
       "9  Professional 4        \n",
       "10 Professional 4        "
      ]
     },
     "metadata": {},
     "output_type": "display_data"
    }
   ],
   "source": [
    "head(pelanggan[c(\"Profesi\",\"Profesi.1\")],10)"
   ]
  },
  {
   "cell_type": "markdown",
   "id": "ea74a333",
   "metadata": {},
   "source": [
    "Kelihatan kalau Wiraswasta dikonversi menjadi angka 5, Pelajar menjadi angka 3, Professional menjadi angka 4, Ibu Rumah Tangga menjadi angka 1, dan satu lagi  adalah Mahasiswa yang dikonversi menjadi angka 2 (tidak terlihat disini).\n",
    "\n",
    "Daftar data kategori dan hasil konversinya sangat penting untuk dijadikan referensi sehingga nanti ketika ada data baru, bisa \"petakan\" menjadi data numerik yang siap digunakan untuk algoritma clustering.\n",
    "\n",
    "Permasalahnya data di atas terlalu panjang, padahal sebenarnya cuma diperlukan 5 baris data, untuk meringkas data dapat dilakukan dengan menggunakan fungsi unique"
   ]
  },
  {
   "cell_type": "code",
   "execution_count": 28,
   "id": "a2abd38c",
   "metadata": {},
   "outputs": [
    {
     "data": {
      "text/html": [
       "<table class=\"dataframe\">\n",
       "<caption>A data.frame: 5 × 2</caption>\n",
       "<thead>\n",
       "\t<tr><th></th><th scope=col>Profesi</th><th scope=col>Profesi.1</th></tr>\n",
       "\t<tr><th></th><th scope=col>&lt;chr&gt;</th><th scope=col>&lt;int&gt;</th></tr>\n",
       "</thead>\n",
       "<tbody>\n",
       "\t<tr><th scope=row>1</th><td>Wiraswasta      </td><td>5</td></tr>\n",
       "\t<tr><th scope=row>2</th><td>Pelajar         </td><td>3</td></tr>\n",
       "\t<tr><th scope=row>3</th><td>Professional    </td><td>4</td></tr>\n",
       "\t<tr><th scope=row>17</th><td>Ibu Rumah Tangga</td><td>1</td></tr>\n",
       "\t<tr><th scope=row>31</th><td>Mahasiswa       </td><td>2</td></tr>\n",
       "</tbody>\n",
       "</table>\n"
      ],
      "text/latex": [
       "A data.frame: 5 × 2\n",
       "\\begin{tabular}{r|ll}\n",
       "  & Profesi & Profesi.1\\\\\n",
       "  & <chr> & <int>\\\\\n",
       "\\hline\n",
       "\t1 & Wiraswasta       & 5\\\\\n",
       "\t2 & Pelajar          & 3\\\\\n",
       "\t3 & Professional     & 4\\\\\n",
       "\t17 & Ibu Rumah Tangga & 1\\\\\n",
       "\t31 & Mahasiswa        & 2\\\\\n",
       "\\end{tabular}\n"
      ],
      "text/markdown": [
       "\n",
       "A data.frame: 5 × 2\n",
       "\n",
       "| <!--/--> | Profesi &lt;chr&gt; | Profesi.1 &lt;int&gt; |\n",
       "|---|---|---|\n",
       "| 1 | Wiraswasta       | 5 |\n",
       "| 2 | Pelajar          | 3 |\n",
       "| 3 | Professional     | 4 |\n",
       "| 17 | Ibu Rumah Tangga | 1 |\n",
       "| 31 | Mahasiswa        | 2 |\n",
       "\n"
      ],
      "text/plain": [
       "   Profesi          Profesi.1\n",
       "1  Wiraswasta       5        \n",
       "2  Pelajar          3        \n",
       "3  Professional     4        \n",
       "17 Ibu Rumah Tangga 1        \n",
       "31 Mahasiswa        2        "
      ]
     },
     "metadata": {},
     "output_type": "display_data"
    }
   ],
   "source": [
    "unique(pelanggan[c(\"Profesi\",\"Profesi.1\")])"
   ]
  },
  {
   "cell_type": "markdown",
   "id": "c521e225",
   "metadata": {},
   "source": [
    "Terlihat ya datanya sudah diringkas dengan teks kategori beserta pasangan numeriknya. Kemudian perhatikan juga angka-angka 1,2,3,17 dan 31 yang terdapat di bagian paling kiri. Ini menunjukkan posisi baris ditemukannya teks tersebut.\n",
    "\n",
    "Data ringkas dan unik ini untuk selanjutnya disebut sebagai data referensi atau data master."
   ]
  },
  {
   "cell_type": "code",
   "execution_count": 29,
   "id": "b4e96584",
   "metadata": {},
   "outputs": [],
   "source": [
    "Profesi <- unique(pelanggan[c(\"Profesi\",\"Profesi.1\")])\n",
    "Jenis.Kelamin <- unique(pelanggan[c(\"Jenis.Kelamin\",\"Jenis.Kelamin.1\")])\n",
    "Tipe.Residen <- unique(pelanggan[c(\"Tipe.Residen\",\"Tipe.Residen.1\")])"
   ]
  },
  {
   "cell_type": "markdown",
   "id": "9ac760c6",
   "metadata": {},
   "source": [
    "### Tahap Preparation Selesai\n",
    "\n",
    "Untuk algoritma clustering k-means yang akan digunakan di R, maka tahap data preparationnya adalah menyiapkan data yang di dalamnya harus berisi numerik.\n",
    "\n",
    "Namun pada banyak kasus riil, data tidak sepenuhnya berisi numerik seperti pada dataset yang digunakan dalam analisis ini, adapun langkah-langkah data preparation adalah sebagai berikut:\n",
    "\n",
    "1. Mengenal Contoh File Dataset Pelanggan.\n",
    "2. Membaca File dengan read.csv.\n",
    "3. Vector untuk Menyimpan Nama Field.\n",
    "4. Konversi Data dengan data.matrix.\n",
    "5. Menggabungkan Hasil Konversi, hasil konversi ini perlu kita gabungkan kembali ke variable asal agar kita tidak kehilangan referensinya.\n",
    "6. Menormalisasikan Nilai Belanja, yakni merubah skala data nilai belanja dari jutaan menjadi puluhan dengan tujuan penyederhanaan perhitungan namun tidak mengurangi akurasi.\n",
    "7. Membuat Data Master, yakni meringkas data kategori dan numerik ke dalam variable-variable yang disebut sebagai data master.\n",
    "\n",
    "Selanjutnya adalah melakukan Clustering dengan Algoritma K-Means."
   ]
  },
  {
   "cell_type": "markdown",
   "id": "11109980",
   "metadata": {},
   "source": [
    "### Apa itu Clustering dan algoritma K-Means?\n",
    "\n",
    "Clustering adalah proses pembagian objek-objek ke dalam beberapa kelompok (cluster) berdasarkan tingkat kemiripan antara satu objek dengan yang lain.\n",
    "\n",
    "Beberapa contoh clustering:\n",
    "\n",
    "Pengelompokan manusia berdasarkan umur: bayi, balita, anak, remaja, dewasa, tua.\n",
    "Pengelompokan customer berdasarkan daya belinya: regular dan premium.\n",
    "Pengelompokan makanan berdasarkan kandungan gizinya: biji-bijian, sayuran, buah-buahan, minyak, protein, dan lain-lain.\n",
    "\n",
    "Banyak algoritma telah dikembangkan untuk melakukan clustering secara otomatis, salah satu yang sangat populer adalah **K-Means**.\n",
    "\n",
    "**K-means** adalah algoritma yang membagi data menjadi sejumlah partisi dengan cara sederhana: mencari kedekatan dari tiap titik pada suatu cluster dengan sejumlah nilai rata-rata atau mean.\n",
    "\n",
    "Ada dua konsep kunci yang juga menjadi nama asal k-means:\n",
    "\n",
    "1. Jumlah partisi yang diinginkan, diwakili oleh huruf k\n",
    "2. Mencari \"jarak\" kedekatan tiap titik ke sejumlah nilai rata-rata cluster yang diamati, diwakili oleh means\n",
    "\n",
    "Algoritma k-means sudah ada di paket dasar R dalam bentuk function bernama kmeans.\n",
    "\n",
    "Source : https://youtu.be/6QV4vPpDxKQ"
   ]
  },
  {
   "cell_type": "markdown",
   "id": "f5bf870b",
   "metadata": {},
   "source": [
    "### Fungsi kmeans\n",
    "\n",
    "Dalam kasus ini akan dilakukan segmentasi langsung pada data pelanggan – yang telah dilakukan persiapan datanya sebelumnya – dengan menggunakan function kmeans.\n",
    "\n",
    "Function kmeans memerlukan minimal 2 parameter, yaitu:\n",
    "\n",
    "* **x**: data yang digunakan, dimana semua isi datanya harus berupa numerik.\n",
    "* **centers**: jumlah cluster yang diinginkan.\n",
    "\n",
    "Dan fungsi kmeans ini biasanya disertai dengan pemanggilan function seet.seed. Ini berguna untuk \"menyeragamkan\" daftar nilai acak yang sama dari kmeans sehingga didapatkan output yang sama.\n",
    "\n",
    "Berikut adalah contoh penggunaan fungsi kombinasi set.seed dan kmean.\n",
    "\n",
    "    set.seed(100)\n",
    "    kmeans(x=pelanggan[c(\"Umur\",\"Profesi.1\")], centers=3)\n",
    "    \n",
    "Ini artinya data pelanggan akan dibagi berdasarkan \"Umur\" dan \"Profesi\" menjadi 3 segmen.\n",
    "\n",
    "Kadang kala, parameter data dan jumlah segmen saja tidak cukup. Perlu digunakan parameter ketiga yaitu **nstart**, yang merupakan jumlah kombinasi acak yang dihasilkan secara internal oleh R. Berdasarkan jumlah yang diberikan, algoritma akan memilih mana yang terbaik dari kombinasi-kombinasi tersebut.\n",
    "\n",
    "Kata terbaik berarti jarak antara tiap titik ke mean dari clusternya sendiri lebih kecil dibandingkan ke mean dari cluster lain.\n",
    "\n",
    "Perlu untuk diingat bahwa mean atau nilai rata-rata di sini sering disebut juga dengan centroid pada berbagai literatur data science.\n",
    "\n",
    "Berikut adalah modifikasi pemanggilan fungsi dengan parameter tambahan nstart sebesar 25.\n",
    "\n",
    "    kmeans(x=pelanggan[c(\"Umur\",\"Profesi.1\")], centers=3, nstart=25)"
   ]
  },
  {
   "cell_type": "code",
   "execution_count": 31,
   "id": "6ccff179",
   "metadata": {},
   "outputs": [
    {
     "data": {
      "text/plain": [
       "K-means clustering with 5 clusters of sizes 5, 12, 14, 9, 10\n",
       "\n",
       "Cluster means:\n",
       "  Jenis.Kelamin.1     Umur Profesi.1 Tipe.Residen.1 NilaiBelanjaSetahun\n",
       "1            1.40 61.80000  4.200000       1.400000            8.696132\n",
       "2            1.75 31.58333  3.916667       1.250000            7.330958\n",
       "3            2.00 20.07143  3.571429       1.357143            5.901089\n",
       "4            2.00 42.33333  4.000000       1.555556            8.804791\n",
       "5            1.70 52.50000  3.800000       1.300000            6.018321\n",
       "\n",
       "Clustering vector:\n",
       " [1] 1 3 5 5 4 3 1 5 2 2 5 5 1 1 3 2 2 1 2 3 4 5 2 4 2 5 2 4 5 4 3 4 3 3 4 2 3 4\n",
       "[39] 3 3 3 2 2 3 3 3 5 4 2 5\n",
       "\n",
       "Within cluster sum of squares by cluster:\n",
       "[1]  58.21123 174.85164 316.73367 171.67372 108.49735\n",
       " (between_SS / total_SS =  92.4 %)\n",
       "\n",
       "Available components:\n",
       "\n",
       "[1] \"cluster\"      \"centers\"      \"totss\"        \"withinss\"     \"tot.withinss\"\n",
       "[6] \"betweenss\"    \"size\"         \"iter\"         \"ifault\"      "
      ]
     },
     "metadata": {},
     "output_type": "display_data"
    }
   ],
   "source": [
    "#Bagian Data Preparation\n",
    "pelanggan <- read.csv(\"dataset/customer_segments.txt\", sep=\"\\t\")\n",
    "pelanggan_matrix <- data.matrix(pelanggan[c(\"Jenis.Kelamin\", \"Profesi\", \"Tipe.Residen\")])\n",
    "pelanggan <- data.frame(pelanggan, pelanggan_matrix)\n",
    "Profesi <- unique(pelanggan[c(\"Profesi\",\"Profesi.1\")])\n",
    "Jenis.Kelamin <- unique(pelanggan[c(\"Jenis.Kelamin\",\"Jenis.Kelamin.1\")])\n",
    "Tipe.Profesi <- unique(pelanggan[c(\"Tipe.Residen\",\"Tipe.Residen.1\")])\n",
    "pelanggan$NilaiBelanjaSetahun <- pelanggan$NilaiBelanjaSetahun/1000000\n",
    "field_yang_digunakan = c(\"Jenis.Kelamin.1\", \"Umur\", \"Profesi.1\", \"Tipe.Residen.1\",\"NilaiBelanjaSetahun\")\n",
    "#Bagian K-Means\n",
    "set.seed(100)\n",
    "#fungsi kmeans untuk membentuk 5 cluster dengan 25 skenario random dan simpan ke dalam variable segmentasi\n",
    "segmentasi <- kmeans(x=pelanggan[field_yang_digunakan], centers=5, nstart=25)\n",
    "#tampilkan hasil k-means\n",
    "segmentasi"
   ]
  },
  {
   "cell_type": "markdown",
   "id": "8621ff2c",
   "metadata": {},
   "source": [
    "Hasil ini dapat dibagi dalam lima bagian, dengan penjelasan sesuai nomor urut pada gambar sebagai berikut:\n",
    "\n",
    "1. Ukuran / jumlah titik data pada tiap cluster\n",
    "2. Nilai rata-rata (centroid) dari tiap cluster\n",
    "3. Pembagian cluster dari tiap elemen data berdasarkan posisinya\n",
    "4. Jumlah jarak kuadrat dari tiap titik ke centroidnya\n",
    "5. Komponen informasi lain yang terkandung di dalam objek kmeans ini"
   ]
  },
  {
   "cell_type": "markdown",
   "id": "b90336c2",
   "metadata": {},
   "source": [
    "### Analisa Hasil Clustering Vector\n",
    "\n",
    "Untuk menganalisa hasil, akan diawali dari hasil bagian ketiga, yaitu **clustering vector**.\n",
    "\n",
    "![clust1](images/clust1.png)\n",
    "\n",
    "Clustering vector ini adalah rangkaian vector yang berisi angka cluster. Dari hasil diatas, vector berisi angka 1 sampai dengan 5, maksimum sesuai dengan jumlah cluster yang diinginkan.\n",
    "\n",
    "Vector ini dimulai dari angka 2, yang artinya data pertama dari dataset akan dialokasikan pada nomor cluster 2. Dari gambar juga terlihat isi vector kedua bernlai 1, ini artinya data kedua dari dataset dialokasikan pada nomor cluster 1, dan seterusnya. Posisi data terakhir (ke-50) memiliki nomor cluster 5.\n",
    "\n",
    "Hasil ini dapat diakses dengan komponen cluster dari objek hasil seperti berikut:\n",
    "\n",
    "    segmentasi$cluster"
   ]
  },
  {
   "cell_type": "code",
   "execution_count": 3,
   "id": "b254968a",
   "metadata": {},
   "outputs": [
    {
     "data": {
      "text/html": [
       "<style>\n",
       ".list-inline {list-style: none; margin:0; padding: 0}\n",
       ".list-inline>li {display: inline-block}\n",
       ".list-inline>li:not(:last-child)::after {content: \"\\00b7\"; padding: 0 .5ex}\n",
       "</style>\n",
       "<ol class=list-inline><li>1</li><li>3</li><li>5</li><li>5</li><li>4</li><li>3</li><li>1</li><li>5</li><li>2</li><li>2</li><li>5</li><li>5</li><li>1</li><li>1</li><li>3</li><li>2</li><li>2</li><li>1</li><li>2</li><li>3</li><li>4</li><li>5</li><li>2</li><li>4</li><li>2</li><li>5</li><li>2</li><li>4</li><li>5</li><li>4</li><li>3</li><li>4</li><li>3</li><li>3</li><li>4</li><li>2</li><li>3</li><li>4</li><li>3</li><li>3</li><li>3</li><li>2</li><li>2</li><li>3</li><li>3</li><li>3</li><li>5</li><li>4</li><li>2</li><li>5</li></ol>\n"
      ],
      "text/latex": [
       "\\begin{enumerate*}\n",
       "\\item 1\n",
       "\\item 3\n",
       "\\item 5\n",
       "\\item 5\n",
       "\\item 4\n",
       "\\item 3\n",
       "\\item 1\n",
       "\\item 5\n",
       "\\item 2\n",
       "\\item 2\n",
       "\\item 5\n",
       "\\item 5\n",
       "\\item 1\n",
       "\\item 1\n",
       "\\item 3\n",
       "\\item 2\n",
       "\\item 2\n",
       "\\item 1\n",
       "\\item 2\n",
       "\\item 3\n",
       "\\item 4\n",
       "\\item 5\n",
       "\\item 2\n",
       "\\item 4\n",
       "\\item 2\n",
       "\\item 5\n",
       "\\item 2\n",
       "\\item 4\n",
       "\\item 5\n",
       "\\item 4\n",
       "\\item 3\n",
       "\\item 4\n",
       "\\item 3\n",
       "\\item 3\n",
       "\\item 4\n",
       "\\item 2\n",
       "\\item 3\n",
       "\\item 4\n",
       "\\item 3\n",
       "\\item 3\n",
       "\\item 3\n",
       "\\item 2\n",
       "\\item 2\n",
       "\\item 3\n",
       "\\item 3\n",
       "\\item 3\n",
       "\\item 5\n",
       "\\item 4\n",
       "\\item 2\n",
       "\\item 5\n",
       "\\end{enumerate*}\n"
      ],
      "text/markdown": [
       "1. 1\n",
       "2. 3\n",
       "3. 5\n",
       "4. 5\n",
       "5. 4\n",
       "6. 3\n",
       "7. 1\n",
       "8. 5\n",
       "9. 2\n",
       "10. 2\n",
       "11. 5\n",
       "12. 5\n",
       "13. 1\n",
       "14. 1\n",
       "15. 3\n",
       "16. 2\n",
       "17. 2\n",
       "18. 1\n",
       "19. 2\n",
       "20. 3\n",
       "21. 4\n",
       "22. 5\n",
       "23. 2\n",
       "24. 4\n",
       "25. 2\n",
       "26. 5\n",
       "27. 2\n",
       "28. 4\n",
       "29. 5\n",
       "30. 4\n",
       "31. 3\n",
       "32. 4\n",
       "33. 3\n",
       "34. 3\n",
       "35. 4\n",
       "36. 2\n",
       "37. 3\n",
       "38. 4\n",
       "39. 3\n",
       "40. 3\n",
       "41. 3\n",
       "42. 2\n",
       "43. 2\n",
       "44. 3\n",
       "45. 3\n",
       "46. 3\n",
       "47. 5\n",
       "48. 4\n",
       "49. 2\n",
       "50. 5\n",
       "\n",
       "\n"
      ],
      "text/plain": [
       " [1] 1 3 5 5 4 3 1 5 2 2 5 5 1 1 3 2 2 1 2 3 4 5 2 4 2 5 2 4 5 4 3 4 3 3 4 2 3 4\n",
       "[39] 3 3 3 2 2 3 3 3 5 4 2 5"
      ]
     },
     "metadata": {},
     "output_type": "display_data"
    },
    {
     "name": "stdout",
     "output_type": "stream",
     "text": [
      "'data.frame':\t50 obs. of  11 variables:\n",
      " $ Customer_ID        : chr  \"CUST-001\" \"CUST-002\" \"CUST-003\" \"CUST-004\" ...\n",
      " $ Nama.Pelanggan     : chr  \"Budi Anggara\" \"Shirley Ratuwati\" \"Agus Cahyono\" \"Antonius Winarta\" ...\n",
      " $ Jenis.Kelamin      : chr  \"Pria\" \"Wanita\" \"Pria\" \"Pria\" ...\n",
      " $ Umur               : int  58 14 48 53 41 24 64 52 29 33 ...\n",
      " $ Profesi            : chr  \"Wiraswasta\" \"Pelajar\" \"Professional\" \"Professional\" ...\n",
      " $ Tipe.Residen       : chr  \"Sector\" \"Cluster\" \"Cluster\" \"Cluster\" ...\n",
      " $ NilaiBelanjaSetahun: num  9.5 2.72 5.29 5.2 10.62 ...\n",
      " $ Jenis.Kelamin.1    : int  1 2 1 1 2 2 1 1 2 1 ...\n",
      " $ Profesi.1          : int  5 3 4 4 5 4 5 4 4 4 ...\n",
      " $ Tipe.Residen.1     : int  2 1 1 1 1 1 2 1 2 1 ...\n",
      " $ cluster            : int  1 3 5 5 4 3 1 5 2 2 ...\n"
     ]
    }
   ],
   "source": [
    "#Bagian Data Preparation\n",
    "pelanggan <- read.csv(\"dataset/customer_segments.txt\", sep=\"\\t\")\n",
    "pelanggan_matrix <- data.matrix(pelanggan[c(\"Jenis.Kelamin\", \"Profesi\", \"Tipe.Residen\")])\n",
    "pelanggan <- data.frame(pelanggan, pelanggan_matrix)\n",
    "\n",
    "Profesi <- unique(pelanggan[c(\"Profesi\",\"Profesi.1\")])\n",
    "Jenis.Kelamin <- unique(pelanggan[c(\"Jenis.Kelamin\",\"Jenis.Kelamin.1\")])\n",
    "Tipe.Profesi <- unique(pelanggan[c(\"Tipe.Residen\",\"Tipe.Residen.1\")])\n",
    "\n",
    "pelanggan$NilaiBelanjaSetahun <- pelanggan$NilaiBelanjaSetahun/1000000\n",
    "field_yang_digunakan = c(\"Jenis.Kelamin.1\", \"Umur\", \"Profesi.1\", \"Tipe.Residen.1\",\"NilaiBelanjaSetahun\")\n",
    "\n",
    "#Bagian K-Means\n",
    "set.seed(100)\n",
    "segmentasi <- kmeans(x=pelanggan[field_yang_digunakan], centers=5, nstart=25)\n",
    "\n",
    "#Penggabungan hasil cluster\n",
    "segmentasi$cluster\n",
    "pelanggan$cluster <- segmentasi$cluster\n",
    "str(pelanggan)"
   ]
  },
  {
   "cell_type": "markdown",
   "id": "8c883c11",
   "metadata": {},
   "source": [
    "### Analisa Hasil Cluster Size\n",
    "\n",
    "Tahap berikutnya, adalah menganalisa hasil pada bagian pertama\n",
    "\n",
    "![clust2](images/clust2.PNG)\n",
    "\n",
    "Ini artinya dengan k-means telah membagi dataset pelanggan dengan 5 cluster, dimana:\n",
    "\n",
    "* Cluster ke-1 memiliki 14 data\n",
    "* Cluster ke-2 memiliki 5 data\n",
    "* Cluster ke-3 memiliki 9 data\n",
    "* Cluster ke-4 memiliki 12 data\n",
    "* Cluster ke-5 memiliki 10 data\n",
    "\n",
    "Dengan jumlah total 50 data, yang juga merupakan jumlah data total pelanggan.\n",
    "\n",
    "Untuk melakukan verifikasi hal tersebut, dapat dilakukan dengan memulai dari cluster 1. Data pelanggan yang isi dari kolom clusternya adalah 1 akan diambil dengan menggunakan fungsi which, seperti perintah berikut."
   ]
  },
  {
   "cell_type": "code",
   "execution_count": 39,
   "id": "6e454af7",
   "metadata": {},
   "outputs": [
    {
     "data": {
      "text/html": [
       "<style>\n",
       ".list-inline {list-style: none; margin:0; padding: 0}\n",
       ".list-inline>li {display: inline-block}\n",
       ".list-inline>li:not(:last-child)::after {content: \"\\00b7\"; padding: 0 .5ex}\n",
       "</style>\n",
       "<ol class=list-inline><li>1</li><li>7</li><li>13</li><li>14</li><li>18</li></ol>\n"
      ],
      "text/latex": [
       "\\begin{enumerate*}\n",
       "\\item 1\n",
       "\\item 7\n",
       "\\item 13\n",
       "\\item 14\n",
       "\\item 18\n",
       "\\end{enumerate*}\n"
      ],
      "text/markdown": [
       "1. 1\n",
       "2. 7\n",
       "3. 13\n",
       "4. 14\n",
       "5. 18\n",
       "\n",
       "\n"
      ],
      "text/plain": [
       "[1]  1  7 13 14 18"
      ]
     },
     "metadata": {},
     "output_type": "display_data"
    }
   ],
   "source": [
    "#Filter cluster ke-1\n",
    "which(pelanggan$cluster == 1)"
   ]
  },
  {
   "cell_type": "markdown",
   "id": "8243b7d7",
   "metadata": {},
   "source": [
    "Hasil di atas menunjukkan 5 angka posisi data untuk cluster 1. Banyaknya angka pada deretan ini sesuai ukuran untuk cluster ke-1 dari informasi di atas.\n",
    "\n",
    "Sekarang untuk menghitung jumlah deretan dengan menambahkan perintah length pada fungsi which seperti berikut:"
   ]
  },
  {
   "cell_type": "code",
   "execution_count": 38,
   "id": "82493250",
   "metadata": {},
   "outputs": [
    {
     "data": {
      "text/html": [
       "5"
      ],
      "text/latex": [
       "5"
      ],
      "text/markdown": [
       "5"
      ],
      "text/plain": [
       "[1] 5"
      ]
     },
     "metadata": {},
     "output_type": "display_data"
    }
   ],
   "source": [
    "length(which(pelanggan$cluster == 1))"
   ]
  },
  {
   "cell_type": "markdown",
   "id": "aae293c1",
   "metadata": {},
   "source": [
    "### Melihat Data pada Cluster ke-N\n",
    "\n",
    "Berikut adalah perintah yang dapat diketikkan untuk melihat seluruh data pada cluster ke-3"
   ]
  },
  {
   "cell_type": "code",
   "execution_count": 43,
   "id": "bd87c783",
   "metadata": {},
   "outputs": [
    {
     "data": {
      "text/html": [
       "<table class=\"dataframe\">\n",
       "<caption>A data.frame: 14 × 11</caption>\n",
       "<thead>\n",
       "\t<tr><th></th><th scope=col>Customer_ID</th><th scope=col>Nama.Pelanggan</th><th scope=col>Jenis.Kelamin</th><th scope=col>Umur</th><th scope=col>Profesi</th><th scope=col>Tipe.Residen</th><th scope=col>NilaiBelanjaSetahun</th><th scope=col>Jenis.Kelamin.1</th><th scope=col>Profesi.1</th><th scope=col>Tipe.Residen.1</th><th scope=col>cluster</th></tr>\n",
       "\t<tr><th></th><th scope=col>&lt;chr&gt;</th><th scope=col>&lt;chr&gt;</th><th scope=col>&lt;chr&gt;</th><th scope=col>&lt;int&gt;</th><th scope=col>&lt;chr&gt;</th><th scope=col>&lt;chr&gt;</th><th scope=col>&lt;dbl&gt;</th><th scope=col>&lt;int&gt;</th><th scope=col>&lt;int&gt;</th><th scope=col>&lt;int&gt;</th><th scope=col>&lt;int&gt;</th></tr>\n",
       "</thead>\n",
       "<tbody>\n",
       "\t<tr><th scope=row>2</th><td>CUST-002</td><td>Shirley Ratuwati</td><td>Wanita</td><td>14</td><td>Pelajar         </td><td>Cluster</td><td> 2.722700</td><td>2</td><td>3</td><td>1</td><td>3</td></tr>\n",
       "\t<tr><th scope=row>6</th><td>CUST-006</td><td>Rosalina Kurnia </td><td>Wanita</td><td>24</td><td>Professional    </td><td>Cluster</td><td> 5.215541</td><td>2</td><td>4</td><td>1</td><td>3</td></tr>\n",
       "\t<tr><th scope=row>15</th><td>CUST-015</td><td>Shirley Ratuwati</td><td>Wanita</td><td>20</td><td>Wiraswasta      </td><td>Cluster</td><td>10.365668</td><td>2</td><td>5</td><td>1</td><td>3</td></tr>\n",
       "\t<tr><th scope=row>20</th><td>CUST-020</td><td>Irene Novianto  </td><td>Wanita</td><td>16</td><td>Pelajar         </td><td>Sector </td><td> 2.896845</td><td>2</td><td>3</td><td>2</td><td>3</td></tr>\n",
       "\t<tr><th scope=row>31</th><td>CUST-031</td><td>Eviana Handry   </td><td>Wanita</td><td>19</td><td>Mahasiswa       </td><td>Cluster</td><td> 3.042773</td><td>2</td><td>2</td><td>1</td><td>3</td></tr>\n",
       "\t<tr><th scope=row>33</th><td>CUST-033</td><td>Cecilia Kusnadi </td><td>Wanita</td><td>19</td><td>Mahasiswa       </td><td>Cluster</td><td> 3.047926</td><td>2</td><td>2</td><td>1</td><td>3</td></tr>\n",
       "\t<tr><th scope=row>34</th><td>CUST-034</td><td>Deasy Arisandi  </td><td>Wanita</td><td>21</td><td>Wiraswasta      </td><td>Sector </td><td> 9.759822</td><td>2</td><td>5</td><td>2</td><td>3</td></tr>\n",
       "\t<tr><th scope=row>37</th><td>CUST-037</td><td>Felicia Tandiono</td><td>Wanita</td><td>25</td><td>Professional    </td><td>Sector </td><td> 5.972787</td><td>2</td><td>4</td><td>2</td><td>3</td></tr>\n",
       "\t<tr><th scope=row>39</th><td>CUST-039</td><td>Gina Hidayat    </td><td>Wanita</td><td>20</td><td>Professional    </td><td>Cluster</td><td> 5.257775</td><td>2</td><td>4</td><td>1</td><td>3</td></tr>\n",
       "\t<tr><th scope=row>40</th><td>CUST-040</td><td>Irene Darmawan  </td><td>Wanita</td><td>14</td><td>Pelajar         </td><td>Sector </td><td> 2.861855</td><td>2</td><td>3</td><td>2</td><td>3</td></tr>\n",
       "\t<tr><th scope=row>41</th><td>CUST-041</td><td>Shinta Aritonang</td><td>Wanita</td><td>24</td><td>Ibu Rumah Tangga</td><td>Cluster</td><td> 6.820976</td><td>2</td><td>1</td><td>1</td><td>3</td></tr>\n",
       "\t<tr><th scope=row>44</th><td>CUST-044</td><td>Anna            </td><td>Wanita</td><td>18</td><td>Wiraswasta      </td><td>Cluster</td><td> 9.339737</td><td>2</td><td>5</td><td>1</td><td>3</td></tr>\n",
       "\t<tr><th scope=row>45</th><td>CUST-045</td><td>Rismawati Juni  </td><td>Wanita</td><td>22</td><td>Professional    </td><td>Cluster</td><td> 5.211041</td><td>2</td><td>4</td><td>1</td><td>3</td></tr>\n",
       "\t<tr><th scope=row>46</th><td>CUST-046</td><td>Elfira Surya    </td><td>Wanita</td><td>25</td><td>Wiraswasta      </td><td>Sector </td><td>10.099807</td><td>2</td><td>5</td><td>2</td><td>3</td></tr>\n",
       "</tbody>\n",
       "</table>\n"
      ],
      "text/latex": [
       "A data.frame: 14 × 11\n",
       "\\begin{tabular}{r|lllllllllll}\n",
       "  & Customer\\_ID & Nama.Pelanggan & Jenis.Kelamin & Umur & Profesi & Tipe.Residen & NilaiBelanjaSetahun & Jenis.Kelamin.1 & Profesi.1 & Tipe.Residen.1 & cluster\\\\\n",
       "  & <chr> & <chr> & <chr> & <int> & <chr> & <chr> & <dbl> & <int> & <int> & <int> & <int>\\\\\n",
       "\\hline\n",
       "\t2 & CUST-002 & Shirley Ratuwati & Wanita & 14 & Pelajar          & Cluster &  2.722700 & 2 & 3 & 1 & 3\\\\\n",
       "\t6 & CUST-006 & Rosalina Kurnia  & Wanita & 24 & Professional     & Cluster &  5.215541 & 2 & 4 & 1 & 3\\\\\n",
       "\t15 & CUST-015 & Shirley Ratuwati & Wanita & 20 & Wiraswasta       & Cluster & 10.365668 & 2 & 5 & 1 & 3\\\\\n",
       "\t20 & CUST-020 & Irene Novianto   & Wanita & 16 & Pelajar          & Sector  &  2.896845 & 2 & 3 & 2 & 3\\\\\n",
       "\t31 & CUST-031 & Eviana Handry    & Wanita & 19 & Mahasiswa        & Cluster &  3.042773 & 2 & 2 & 1 & 3\\\\\n",
       "\t33 & CUST-033 & Cecilia Kusnadi  & Wanita & 19 & Mahasiswa        & Cluster &  3.047926 & 2 & 2 & 1 & 3\\\\\n",
       "\t34 & CUST-034 & Deasy Arisandi   & Wanita & 21 & Wiraswasta       & Sector  &  9.759822 & 2 & 5 & 2 & 3\\\\\n",
       "\t37 & CUST-037 & Felicia Tandiono & Wanita & 25 & Professional     & Sector  &  5.972787 & 2 & 4 & 2 & 3\\\\\n",
       "\t39 & CUST-039 & Gina Hidayat     & Wanita & 20 & Professional     & Cluster &  5.257775 & 2 & 4 & 1 & 3\\\\\n",
       "\t40 & CUST-040 & Irene Darmawan   & Wanita & 14 & Pelajar          & Sector  &  2.861855 & 2 & 3 & 2 & 3\\\\\n",
       "\t41 & CUST-041 & Shinta Aritonang & Wanita & 24 & Ibu Rumah Tangga & Cluster &  6.820976 & 2 & 1 & 1 & 3\\\\\n",
       "\t44 & CUST-044 & Anna             & Wanita & 18 & Wiraswasta       & Cluster &  9.339737 & 2 & 5 & 1 & 3\\\\\n",
       "\t45 & CUST-045 & Rismawati Juni   & Wanita & 22 & Professional     & Cluster &  5.211041 & 2 & 4 & 1 & 3\\\\\n",
       "\t46 & CUST-046 & Elfira Surya     & Wanita & 25 & Wiraswasta       & Sector  & 10.099807 & 2 & 5 & 2 & 3\\\\\n",
       "\\end{tabular}\n"
      ],
      "text/markdown": [
       "\n",
       "A data.frame: 14 × 11\n",
       "\n",
       "| <!--/--> | Customer_ID &lt;chr&gt; | Nama.Pelanggan &lt;chr&gt; | Jenis.Kelamin &lt;chr&gt; | Umur &lt;int&gt; | Profesi &lt;chr&gt; | Tipe.Residen &lt;chr&gt; | NilaiBelanjaSetahun &lt;dbl&gt; | Jenis.Kelamin.1 &lt;int&gt; | Profesi.1 &lt;int&gt; | Tipe.Residen.1 &lt;int&gt; | cluster &lt;int&gt; |\n",
       "|---|---|---|---|---|---|---|---|---|---|---|---|\n",
       "| 2 | CUST-002 | Shirley Ratuwati | Wanita | 14 | Pelajar          | Cluster |  2.722700 | 2 | 3 | 1 | 3 |\n",
       "| 6 | CUST-006 | Rosalina Kurnia  | Wanita | 24 | Professional     | Cluster |  5.215541 | 2 | 4 | 1 | 3 |\n",
       "| 15 | CUST-015 | Shirley Ratuwati | Wanita | 20 | Wiraswasta       | Cluster | 10.365668 | 2 | 5 | 1 | 3 |\n",
       "| 20 | CUST-020 | Irene Novianto   | Wanita | 16 | Pelajar          | Sector  |  2.896845 | 2 | 3 | 2 | 3 |\n",
       "| 31 | CUST-031 | Eviana Handry    | Wanita | 19 | Mahasiswa        | Cluster |  3.042773 | 2 | 2 | 1 | 3 |\n",
       "| 33 | CUST-033 | Cecilia Kusnadi  | Wanita | 19 | Mahasiswa        | Cluster |  3.047926 | 2 | 2 | 1 | 3 |\n",
       "| 34 | CUST-034 | Deasy Arisandi   | Wanita | 21 | Wiraswasta       | Sector  |  9.759822 | 2 | 5 | 2 | 3 |\n",
       "| 37 | CUST-037 | Felicia Tandiono | Wanita | 25 | Professional     | Sector  |  5.972787 | 2 | 4 | 2 | 3 |\n",
       "| 39 | CUST-039 | Gina Hidayat     | Wanita | 20 | Professional     | Cluster |  5.257775 | 2 | 4 | 1 | 3 |\n",
       "| 40 | CUST-040 | Irene Darmawan   | Wanita | 14 | Pelajar          | Sector  |  2.861855 | 2 | 3 | 2 | 3 |\n",
       "| 41 | CUST-041 | Shinta Aritonang | Wanita | 24 | Ibu Rumah Tangga | Cluster |  6.820976 | 2 | 1 | 1 | 3 |\n",
       "| 44 | CUST-044 | Anna             | Wanita | 18 | Wiraswasta       | Cluster |  9.339737 | 2 | 5 | 1 | 3 |\n",
       "| 45 | CUST-045 | Rismawati Juni   | Wanita | 22 | Professional     | Cluster |  5.211041 | 2 | 4 | 1 | 3 |\n",
       "| 46 | CUST-046 | Elfira Surya     | Wanita | 25 | Wiraswasta       | Sector  | 10.099807 | 2 | 5 | 2 | 3 |\n",
       "\n"
      ],
      "text/plain": [
       "   Customer_ID Nama.Pelanggan   Jenis.Kelamin Umur Profesi         \n",
       "2  CUST-002    Shirley Ratuwati Wanita        14   Pelajar         \n",
       "6  CUST-006    Rosalina Kurnia  Wanita        24   Professional    \n",
       "15 CUST-015    Shirley Ratuwati Wanita        20   Wiraswasta      \n",
       "20 CUST-020    Irene Novianto   Wanita        16   Pelajar         \n",
       "31 CUST-031    Eviana Handry    Wanita        19   Mahasiswa       \n",
       "33 CUST-033    Cecilia Kusnadi  Wanita        19   Mahasiswa       \n",
       "34 CUST-034    Deasy Arisandi   Wanita        21   Wiraswasta      \n",
       "37 CUST-037    Felicia Tandiono Wanita        25   Professional    \n",
       "39 CUST-039    Gina Hidayat     Wanita        20   Professional    \n",
       "40 CUST-040    Irene Darmawan   Wanita        14   Pelajar         \n",
       "41 CUST-041    Shinta Aritonang Wanita        24   Ibu Rumah Tangga\n",
       "44 CUST-044    Anna             Wanita        18   Wiraswasta      \n",
       "45 CUST-045    Rismawati Juni   Wanita        22   Professional    \n",
       "46 CUST-046    Elfira Surya     Wanita        25   Wiraswasta      \n",
       "   Tipe.Residen NilaiBelanjaSetahun Jenis.Kelamin.1 Profesi.1 Tipe.Residen.1\n",
       "2  Cluster       2.722700           2               3         1             \n",
       "6  Cluster       5.215541           2               4         1             \n",
       "15 Cluster      10.365668           2               5         1             \n",
       "20 Sector        2.896845           2               3         2             \n",
       "31 Cluster       3.042773           2               2         1             \n",
       "33 Cluster       3.047926           2               2         1             \n",
       "34 Sector        9.759822           2               5         2             \n",
       "37 Sector        5.972787           2               4         2             \n",
       "39 Cluster       5.257775           2               4         1             \n",
       "40 Sector        2.861855           2               3         2             \n",
       "41 Cluster       6.820976           2               1         1             \n",
       "44 Cluster       9.339737           2               5         1             \n",
       "45 Cluster       5.211041           2               4         1             \n",
       "46 Sector       10.099807           2               5         2             \n",
       "   cluster\n",
       "2  3      \n",
       "6  3      \n",
       "15 3      \n",
       "20 3      \n",
       "31 3      \n",
       "33 3      \n",
       "34 3      \n",
       "37 3      \n",
       "39 3      \n",
       "40 3      \n",
       "41 3      \n",
       "44 3      \n",
       "45 3      \n",
       "46 3      "
      ]
     },
     "metadata": {},
     "output_type": "display_data"
    }
   ],
   "source": [
    "pelanggan[which(pelanggan$cluster == 3),]"
   ]
  },
  {
   "cell_type": "markdown",
   "id": "f011ccd9",
   "metadata": {},
   "source": [
    "Dimana ada 14 data dengan seluruh data berjenis kelamin wanita dan umur antara 14 s/d 25 tahun. Penghasilan, profesi, nilai belanja dan tipe residen cukup bervariasi.\n",
    "\n",
    "Dan untuk melihat cluster ke-1."
   ]
  },
  {
   "cell_type": "code",
   "execution_count": 45,
   "id": "b114a0a1",
   "metadata": {},
   "outputs": [
    {
     "data": {
      "text/html": [
       "<table class=\"dataframe\">\n",
       "<caption>A data.frame: 5 × 11</caption>\n",
       "<thead>\n",
       "\t<tr><th></th><th scope=col>Customer_ID</th><th scope=col>Nama.Pelanggan</th><th scope=col>Jenis.Kelamin</th><th scope=col>Umur</th><th scope=col>Profesi</th><th scope=col>Tipe.Residen</th><th scope=col>NilaiBelanjaSetahun</th><th scope=col>Jenis.Kelamin.1</th><th scope=col>Profesi.1</th><th scope=col>Tipe.Residen.1</th><th scope=col>cluster</th></tr>\n",
       "\t<tr><th></th><th scope=col>&lt;chr&gt;</th><th scope=col>&lt;chr&gt;</th><th scope=col>&lt;chr&gt;</th><th scope=col>&lt;int&gt;</th><th scope=col>&lt;chr&gt;</th><th scope=col>&lt;chr&gt;</th><th scope=col>&lt;dbl&gt;</th><th scope=col>&lt;int&gt;</th><th scope=col>&lt;int&gt;</th><th scope=col>&lt;int&gt;</th><th scope=col>&lt;int&gt;</th></tr>\n",
       "</thead>\n",
       "<tbody>\n",
       "\t<tr><th scope=row>1</th><td>CUST-001</td><td>Budi Anggara  </td><td>Pria  </td><td>58</td><td>Wiraswasta      </td><td>Sector </td><td>9.497927</td><td>1</td><td>5</td><td>2</td><td>1</td></tr>\n",
       "\t<tr><th scope=row>7</th><td>CUST-007</td><td>Cahyono, Agus </td><td>Pria  </td><td>64</td><td>Wiraswasta      </td><td>Sector </td><td>9.837260</td><td>1</td><td>5</td><td>2</td><td>1</td></tr>\n",
       "\t<tr><th scope=row>13</th><td>CUST-013</td><td>Cahaya Putri  </td><td>Wanita</td><td>64</td><td>Wiraswasta      </td><td>Cluster</td><td>9.333168</td><td>2</td><td>5</td><td>1</td><td>1</td></tr>\n",
       "\t<tr><th scope=row>14</th><td>CUST-014</td><td>Mario Setiawan</td><td>Pria  </td><td>60</td><td>Wiraswasta      </td><td>Cluster</td><td>9.471615</td><td>1</td><td>5</td><td>1</td><td>1</td></tr>\n",
       "\t<tr><th scope=row>18</th><td>CUST-018</td><td>Nelly Halim   </td><td>Wanita</td><td>63</td><td>Ibu Rumah Tangga</td><td>Cluster</td><td>5.340690</td><td>2</td><td>1</td><td>1</td><td>1</td></tr>\n",
       "</tbody>\n",
       "</table>\n"
      ],
      "text/latex": [
       "A data.frame: 5 × 11\n",
       "\\begin{tabular}{r|lllllllllll}\n",
       "  & Customer\\_ID & Nama.Pelanggan & Jenis.Kelamin & Umur & Profesi & Tipe.Residen & NilaiBelanjaSetahun & Jenis.Kelamin.1 & Profesi.1 & Tipe.Residen.1 & cluster\\\\\n",
       "  & <chr> & <chr> & <chr> & <int> & <chr> & <chr> & <dbl> & <int> & <int> & <int> & <int>\\\\\n",
       "\\hline\n",
       "\t1 & CUST-001 & Budi Anggara   & Pria   & 58 & Wiraswasta       & Sector  & 9.497927 & 1 & 5 & 2 & 1\\\\\n",
       "\t7 & CUST-007 & Cahyono, Agus  & Pria   & 64 & Wiraswasta       & Sector  & 9.837260 & 1 & 5 & 2 & 1\\\\\n",
       "\t13 & CUST-013 & Cahaya Putri   & Wanita & 64 & Wiraswasta       & Cluster & 9.333168 & 2 & 5 & 1 & 1\\\\\n",
       "\t14 & CUST-014 & Mario Setiawan & Pria   & 60 & Wiraswasta       & Cluster & 9.471615 & 1 & 5 & 1 & 1\\\\\n",
       "\t18 & CUST-018 & Nelly Halim    & Wanita & 63 & Ibu Rumah Tangga & Cluster & 5.340690 & 2 & 1 & 1 & 1\\\\\n",
       "\\end{tabular}\n"
      ],
      "text/markdown": [
       "\n",
       "A data.frame: 5 × 11\n",
       "\n",
       "| <!--/--> | Customer_ID &lt;chr&gt; | Nama.Pelanggan &lt;chr&gt; | Jenis.Kelamin &lt;chr&gt; | Umur &lt;int&gt; | Profesi &lt;chr&gt; | Tipe.Residen &lt;chr&gt; | NilaiBelanjaSetahun &lt;dbl&gt; | Jenis.Kelamin.1 &lt;int&gt; | Profesi.1 &lt;int&gt; | Tipe.Residen.1 &lt;int&gt; | cluster &lt;int&gt; |\n",
       "|---|---|---|---|---|---|---|---|---|---|---|---|\n",
       "| 1 | CUST-001 | Budi Anggara   | Pria   | 58 | Wiraswasta       | Sector  | 9.497927 | 1 | 5 | 2 | 1 |\n",
       "| 7 | CUST-007 | Cahyono, Agus  | Pria   | 64 | Wiraswasta       | Sector  | 9.837260 | 1 | 5 | 2 | 1 |\n",
       "| 13 | CUST-013 | Cahaya Putri   | Wanita | 64 | Wiraswasta       | Cluster | 9.333168 | 2 | 5 | 1 | 1 |\n",
       "| 14 | CUST-014 | Mario Setiawan | Pria   | 60 | Wiraswasta       | Cluster | 9.471615 | 1 | 5 | 1 | 1 |\n",
       "| 18 | CUST-018 | Nelly Halim    | Wanita | 63 | Ibu Rumah Tangga | Cluster | 5.340690 | 2 | 1 | 1 | 1 |\n",
       "\n"
      ],
      "text/plain": [
       "   Customer_ID Nama.Pelanggan Jenis.Kelamin Umur Profesi          Tipe.Residen\n",
       "1  CUST-001    Budi Anggara   Pria          58   Wiraswasta       Sector      \n",
       "7  CUST-007    Cahyono, Agus  Pria          64   Wiraswasta       Sector      \n",
       "13 CUST-013    Cahaya Putri   Wanita        64   Wiraswasta       Cluster     \n",
       "14 CUST-014    Mario Setiawan Pria          60   Wiraswasta       Cluster     \n",
       "18 CUST-018    Nelly Halim    Wanita        63   Ibu Rumah Tangga Cluster     \n",
       "   NilaiBelanjaSetahun Jenis.Kelamin.1 Profesi.1 Tipe.Residen.1 cluster\n",
       "1  9.497927            1               5         2              1      \n",
       "7  9.837260            1               5         2              1      \n",
       "13 9.333168            2               5         1              1      \n",
       "14 9.471615            1               5         1              1      \n",
       "18 5.340690            2               1         1              1      "
      ]
     },
     "metadata": {},
     "output_type": "display_data"
    }
   ],
   "source": [
    "pelanggan[which(pelanggan$cluster == 1),]"
   ]
  },
  {
   "cell_type": "markdown",
   "id": "19022702",
   "metadata": {},
   "source": [
    "Akan tampil data sebagai berikut, dimana terlihat umur mayoritas sudah masuk usia 50 tahun ke atas dan kebanyakan adalah wiraswasta kecuali satu yang ibu rumah tangga. Dan rata-rata nilai belanja adalah sekitar 9 juta, kecuali yang berprofesi ibu rumah tangga."
   ]
  },
  {
   "cell_type": "markdown",
   "id": "b0477a19",
   "metadata": {},
   "source": [
    "### Analisa Hasil Cluster Means\n",
    "\n",
    "Cluster means adalah hasil nilai rata-rata atau titik sentral (centroid) dari seluruh titik tiap cluster.\n",
    "\n",
    "![clust31](images/clust31.png)\n",
    "\n",
    "Apa artinya hasil tersebut?\n",
    "\n",
    "* Kolom pertama yang berisi angka 1 sampai dengan 5 adalah mewakili nomor cluster.\n",
    "* Kolom **Jenis.Kelamin.1** menunjukkan nilai rata-rata dari data jenis kelamin yang telah dikonversi menjadi numerik, dengan angka 1 mewakili Pria dan angka 2 mewakili wanita.\n",
    "\n",
    "Pada cluster 3 terlihat bahwa hanya ada angka 2, artinya cluster 3 hanya berisi data dengan profil berjenis kelamin wanita. Untuk cluster ke-1 berupa angka 1.40 artinya data bersifat campuran namun cenderung ke Pria (1).\n",
    "\n",
    "Kedua interpretasi angka ini sesuai dengan hasil praktek \"Melihat Data pada Cluster-N\".\n",
    "\n",
    "* Kolom **Umur** adalah representasi dari dataset awal tanpa mengalami konversi. Terlihat untuk cluster ke-3 umur rata-rata adalah 20 tahun, umur 61 tahun untuk cluster ke-1, dan seterusnya.\n",
    " \n",
    "* Kolom **Profesi.1** menunjukkan nilai rata-rata data Profesi untuk tiap cluster yang telah dikonversi menjadi numerik, yaitu angka 1 s/d 5.\n",
    "* Angka 1, 2, 3, 4, dan 5 di kolom ini masing-masingnya secara berurutan mewakili Ibu Rumah Tangga, Mahasiswa, Pelajar, Professional, dan Wiraswasta. Terlihat untuk seluruh cluster bahwa nilai profesi berada dalam rentang 3.5 s/d 4.2 (3.5< profesi <= 4.2). Hal ini menunjukkan bahwa profesi cenderung ke ke Professional, dan secara tegas cluster keempat memiliki profesi berupa Professional.\n",
    "* Kolom **Tipe.Residen.1** menunjukkan representasi data Tipe.Residen yang telah dikonversi menjadi numerik dengan angka 1 mewakili Cluster dan 2 mewakili Sector. Ini juga didapatkan dari hasil konversi data menjadi numerik pada praktek sebelumnya.\n",
    "* Untuk seluruh cluster, terlihat data cukup tersebar antara Sector dan Cluster terutama untuk cluster ke-4 dimana nilai kolom ini di angka 1.555.\n",
    "* Terakhir, kolom **NilaiBelanjaSetahun** cukup signifikan pembagiannya untuk tiap cluster. Cluster ke-1 dan ke-4 memiliki nilai belanja lebih tinggi dibandingkan ketiga cluster lainnya.\n",
    " \n",
    "\n",
    "Ini mungkin target customer yang bisa lebih disasar melalui marketing campaign, karena cluster ke-1 saat ini hanya berisi 5 data. Cukup kecil proporsinya, dan ingin ditingkatkan.\n",
    "\n",
    "Ini terlihat dari hasil output kmeans bagian pertama yang menunjukkan distribusi jumlah data dari tiap cluster:\n",
    "\n",
    "![clust4](images/clust4.PNG)"
   ]
  },
  {
   "cell_type": "code",
   "execution_count": 47,
   "id": "0cad945c",
   "metadata": {},
   "outputs": [
    {
     "data": {
      "text/html": [
       "<table class=\"dataframe\">\n",
       "<caption>A matrix: 5 × 5 of type dbl</caption>\n",
       "<thead>\n",
       "\t<tr><th></th><th scope=col>Jenis.Kelamin.1</th><th scope=col>Umur</th><th scope=col>Profesi.1</th><th scope=col>Tipe.Residen.1</th><th scope=col>NilaiBelanjaSetahun</th></tr>\n",
       "</thead>\n",
       "<tbody>\n",
       "\t<tr><th scope=row>1</th><td>1.40</td><td>61.80000</td><td>4.200000</td><td>1.400000</td><td>8.696132</td></tr>\n",
       "\t<tr><th scope=row>2</th><td>1.75</td><td>31.58333</td><td>3.916667</td><td>1.250000</td><td>7.330958</td></tr>\n",
       "\t<tr><th scope=row>3</th><td>2.00</td><td>20.07143</td><td>3.571429</td><td>1.357143</td><td>5.901089</td></tr>\n",
       "\t<tr><th scope=row>4</th><td>2.00</td><td>42.33333</td><td>4.000000</td><td>1.555556</td><td>8.804791</td></tr>\n",
       "\t<tr><th scope=row>5</th><td>1.70</td><td>52.50000</td><td>3.800000</td><td>1.300000</td><td>6.018321</td></tr>\n",
       "</tbody>\n",
       "</table>\n"
      ],
      "text/latex": [
       "A matrix: 5 × 5 of type dbl\n",
       "\\begin{tabular}{r|lllll}\n",
       "  & Jenis.Kelamin.1 & Umur & Profesi.1 & Tipe.Residen.1 & NilaiBelanjaSetahun\\\\\n",
       "\\hline\n",
       "\t1 & 1.40 & 61.80000 & 4.200000 & 1.400000 & 8.696132\\\\\n",
       "\t2 & 1.75 & 31.58333 & 3.916667 & 1.250000 & 7.330958\\\\\n",
       "\t3 & 2.00 & 20.07143 & 3.571429 & 1.357143 & 5.901089\\\\\n",
       "\t4 & 2.00 & 42.33333 & 4.000000 & 1.555556 & 8.804791\\\\\n",
       "\t5 & 1.70 & 52.50000 & 3.800000 & 1.300000 & 6.018321\\\\\n",
       "\\end{tabular}\n"
      ],
      "text/markdown": [
       "\n",
       "A matrix: 5 × 5 of type dbl\n",
       "\n",
       "| <!--/--> | Jenis.Kelamin.1 | Umur | Profesi.1 | Tipe.Residen.1 | NilaiBelanjaSetahun |\n",
       "|---|---|---|---|---|---|\n",
       "| 1 | 1.40 | 61.80000 | 4.200000 | 1.400000 | 8.696132 |\n",
       "| 2 | 1.75 | 31.58333 | 3.916667 | 1.250000 | 7.330958 |\n",
       "| 3 | 2.00 | 20.07143 | 3.571429 | 1.357143 | 5.901089 |\n",
       "| 4 | 2.00 | 42.33333 | 4.000000 | 1.555556 | 8.804791 |\n",
       "| 5 | 1.70 | 52.50000 | 3.800000 | 1.300000 | 6.018321 |\n",
       "\n"
      ],
      "text/plain": [
       "  Jenis.Kelamin.1 Umur     Profesi.1 Tipe.Residen.1 NilaiBelanjaSetahun\n",
       "1 1.40            61.80000 4.200000  1.400000       8.696132           \n",
       "2 1.75            31.58333 3.916667  1.250000       7.330958           \n",
       "3 2.00            20.07143 3.571429  1.357143       5.901089           \n",
       "4 2.00            42.33333 4.000000  1.555556       8.804791           \n",
       "5 1.70            52.50000 3.800000  1.300000       6.018321           "
      ]
     },
     "metadata": {},
     "output_type": "display_data"
    }
   ],
   "source": [
    "# Melihat segmentasi dari obyek centers\n",
    "segmentasi$centers"
   ]
  },
  {
   "cell_type": "markdown",
   "id": "407959d0",
   "metadata": {},
   "source": [
    "### Analisa Hasil Sum of Squares\n",
    "\n",
    "Analisa berikutnya adalah bagian keempat, yaitu nilai metrik sum of squares seperti terlihat berikut ini.\n",
    "\n",
    "![ss](images/ss.PNG)\n",
    "\n",
    "Konsep sum of squares (SS) adalah jumlah \"jarak kuadrat\" perbedaan tiap titik data dengan mean atau centroidnya. SS ini bisa dengan mean atau centroid untuk tiap cluster atau secara keseluruhan data. Sum of squares dalam literatur data science lain sering disebut dengan Sum of Squared Errors (SSE).\n",
    "\n",
    "Semakin besar nilai SS menyatakan semakin lebarnya perbedaan antar tiap titik data di dalam cluster tersebut.\n",
    "Berdasarkan konsep tersebut, berikut adalah penjelasan untuk hasil output kmeans di atas:\n",
    "\n",
    "1. **Nilai 316.73367** adalah SS untuk cluster ke-1, 58.21123 adalah SS untuk cluster ke-2, dan seterusnya. Semakin kecil nilainya berpotensi semakin baik.\n",
    "2. **total_SS**: adalah SS untuk seluruh titik terhadap nilai rata-rata global, bukan untuk per cluster. Nilai ini selalu tetap dan tidak terpengaruh dengan jumlah cluster.\n",
    "3. **between_SS**: adalah total_SS dikurangi dengan jumlah nilai SS seluruh cluster.\n",
    "4. **(between_SS / total_SS)** adalah rasio antara between_SS dibagi dengan total_SS. Semakin besar persentasenya, umumnya semakin baik.\n",
    "\n",
    "Ini adalah metrik yang bisa digunakan untuk menjawab seberapa baik jumlah cluster yang dibentuk? Apakah dibagi 2, 5, 10 atau 30?"
   ]
  },
  {
   "cell_type": "code",
   "execution_count": 5,
   "id": "47ab19d9",
   "metadata": {},
   "outputs": [
    {
     "data": {
      "text/plain": [
       "K-means clustering with 2 clusters of sizes 23, 27\n",
       "\n",
       "Cluster means:\n",
       "  Jenis.Kelamin.1     Umur Profesi.1 Tipe.Residen.1 NilaiBelanjaSetahun\n",
       "1        1.739130 51.17391  3.913043       1.434783            7.551518\n",
       "2        1.888889 25.85185  3.777778       1.296296            6.659586\n",
       "\n",
       "Clustering vector:\n",
       " [1] 1 2 1 1 1 2 1 1 2 2 1 1 1 1 2 2 2 1 2 2 2 1 2 1 2 1 2 1 1 1 2 1 2 2 1 2 2 1\n",
       "[39] 2 2 2 2 2 2 2 2 1 1 2 1\n",
       "\n",
       "Within cluster sum of squares by cluster:\n",
       "[1] 1492.481 1524.081\n",
       " (between_SS / total_SS =  72.6 %)\n",
       "\n",
       "Available components:\n",
       "\n",
       "[1] \"cluster\"      \"centers\"      \"totss\"        \"withinss\"     \"tot.withinss\"\n",
       "[6] \"betweenss\"    \"size\"         \"iter\"         \"ifault\"      "
      ]
     },
     "metadata": {},
     "output_type": "display_data"
    },
    {
     "data": {
      "text/plain": [
       "K-means clustering with 5 clusters of sizes 5, 12, 14, 9, 10\n",
       "\n",
       "Cluster means:\n",
       "  Jenis.Kelamin.1     Umur Profesi.1 Tipe.Residen.1 NilaiBelanjaSetahun\n",
       "1            1.40 61.80000  4.200000       1.400000            8.696132\n",
       "2            1.75 31.58333  3.916667       1.250000            7.330958\n",
       "3            2.00 20.07143  3.571429       1.357143            5.901089\n",
       "4            2.00 42.33333  4.000000       1.555556            8.804791\n",
       "5            1.70 52.50000  3.800000       1.300000            6.018321\n",
       "\n",
       "Clustering vector:\n",
       " [1] 1 3 5 5 4 3 1 5 2 2 5 5 1 1 3 2 2 1 2 3 4 5 2 4 2 5 2 4 5 4 3 4 3 3 4 2 3 4\n",
       "[39] 3 3 3 2 2 3 3 3 5 4 2 5\n",
       "\n",
       "Within cluster sum of squares by cluster:\n",
       "[1]  58.21123 174.85164 316.73367 171.67372 108.49735\n",
       " (between_SS / total_SS =  92.4 %)\n",
       "\n",
       "Available components:\n",
       "\n",
       "[1] \"cluster\"      \"centers\"      \"totss\"        \"withinss\"     \"tot.withinss\"\n",
       "[6] \"betweenss\"    \"size\"         \"iter\"         \"ifault\"      "
      ]
     },
     "metadata": {},
     "output_type": "display_data"
    }
   ],
   "source": [
    "#Bagian Data Preparation\n",
    "pelanggan <- read.csv(\"dataset/customer_segments.txt\", sep=\"\\t\")\n",
    "pelanggan_matrix <- data.matrix(pelanggan[c(\"Jenis.Kelamin\", \"Profesi\", \"Tipe.Residen\")])\n",
    "pelanggan <- data.frame(pelanggan, pelanggan_matrix)\n",
    "Profesi <- unique(pelanggan[c(\"Profesi\",\"Profesi.1\")])\n",
    "Jenis.Kelamin <- unique(pelanggan[c(\"Jenis.Kelamin\",\"Jenis.Kelamin.1\")])\n",
    "Tipe.Profesi <- unique(pelanggan[c(\"Tipe.Residen\",\"Tipe.Residen.1\")])\n",
    "pelanggan$NilaiBelanjaSetahun <- pelanggan$NilaiBelanjaSetahun/1000000\n",
    "field_yang_digunakan = c(\"Jenis.Kelamin.1\", \"Umur\", \"Profesi.1\", \"Tipe.Residen.1\",\"NilaiBelanjaSetahun\")\n",
    "#Membandingkan dengan 2 cluster kmeans, masing-masing 2 dan 5\n",
    "set.seed(100)\n",
    "segmentasi<-kmeans(x=pelanggan[field_yang_digunakan], centers=2, nstart=25)\n",
    "segmentasi\n",
    "set.seed(100)\n",
    "segmentasi<-kmeans(x=pelanggan[field_yang_digunakan], centers=5, nstart=25)\n",
    "segmentasi"
   ]
  },
  {
   "cell_type": "markdown",
   "id": "d6ecd2b9",
   "metadata": {},
   "source": [
    "![ss2](images/ss2.PNG)\n",
    "\n",
    "Terlihat untuk 2 cluster (k=2), SS per cluster lebih besar dibandingkan jika data dibagi menjadi 5 cluster (k=5). Perhatikan juga persentase rasio antara between_SS dan total_SS, dimana k=5 juga lebih besar."
   ]
  },
  {
   "cell_type": "markdown",
   "id": "bec06c18",
   "metadata": {},
   "source": [
    "### Available Components\n",
    "\n",
    "Analisa terakhir adalah bagian kelimat, yaitu sembilan komponen objek yang bisa digunakan untuk lihat detil dari objek k-means.\n",
    "\n",
    "Berikut adalah penjelasan singkat dari sembilan komponen tersebut.\n",
    "\n",
    "![com](images/com.PNG)\n",
    "\n",
    "Seluruh komponen tersebut bisa diakses dengan menggunakan aksesor $. Contoh, dengan variable kmeans yang bernama segmentasi dan jika ingin mengakses komponen withinss, maka dapat menggunakan perintah berikut."
   ]
  },
  {
   "cell_type": "code",
   "execution_count": 6,
   "id": "29a900de",
   "metadata": {},
   "outputs": [
    {
     "data": {
      "text/plain": [
       "NULL"
      ]
     },
     "metadata": {},
     "output_type": "display_data"
    }
   ],
   "source": [
    "segmentasi$withinssr"
   ]
  },
  {
   "cell_type": "code",
   "execution_count": 8,
   "id": "a2a8a180",
   "metadata": {},
   "outputs": [
    {
     "data": {
      "text/html": [
       "<style>\n",
       ".list-inline {list-style: none; margin:0; padding: 0}\n",
       ".list-inline>li {display: inline-block}\n",
       ".list-inline>li:not(:last-child)::after {content: \"\\00b7\"; padding: 0 .5ex}\n",
       "</style>\n",
       "<ol class=list-inline><li>58.211228098358</li><li>174.851640331072</li><li>316.733666810598</li><li>171.673715890372</li><li>108.497347873209</li></ol>\n"
      ],
      "text/latex": [
       "\\begin{enumerate*}\n",
       "\\item 58.211228098358\n",
       "\\item 174.851640331072\n",
       "\\item 316.733666810598\n",
       "\\item 171.673715890372\n",
       "\\item 108.497347873209\n",
       "\\end{enumerate*}\n"
      ],
      "text/markdown": [
       "1. 58.211228098358\n",
       "2. 174.851640331072\n",
       "3. 316.733666810598\n",
       "4. 171.673715890372\n",
       "5. 108.497347873209\n",
       "\n",
       "\n"
      ],
      "text/plain": [
       "[1]  58.21123 174.85164 316.73367 171.67372 108.49735"
      ]
     },
     "metadata": {},
     "output_type": "display_data"
    },
    {
     "data": {
      "text/html": [
       "829.967599003609"
      ],
      "text/latex": [
       "829.967599003609"
      ],
      "text/markdown": [
       "829.967599003609"
      ],
      "text/plain": [
       "[1] 829.9676"
      ]
     },
     "metadata": {},
     "output_type": "display_data"
    }
   ],
   "source": [
    "#Bagian Data Preparation\n",
    "pelanggan <- read.csv(\"dataset/customer_segments.txt\", sep=\"\\t\")\n",
    "pelanggan_matrix <- data.matrix(pelanggan[c(\"Jenis.Kelamin\", \"Profesi\", \"Tipe.Residen\")])\n",
    "pelanggan <- data.frame(pelanggan, pelanggan_matrix)\n",
    "Profesi <- unique(pelanggan[c(\"Profesi\",\"Profesi.1\")])\n",
    "Jenis.Kelamin <- unique(pelanggan[c(\"Jenis.Kelamin\",\"Jenis.Kelamin.1\")])\n",
    "Tipe.Profesi <- unique(pelanggan[c(\"Tipe.Residen\",\"Tipe.Residen.1\")])\n",
    "pelanggan$NilaiBelanjaSetahun <- pelanggan$NilaiBelanjaSetahun/1000000\n",
    "field_yang_digunakan = c(\"Jenis.Kelamin.1\", \"Umur\", \"Profesi.1\", \"Tipe.Residen.1\",\"NilaiBelanjaSetahun\")\n",
    "#Bagian K-Means\n",
    "set.seed(100)\n",
    "segmentasi <- kmeans(x=pelanggan[field_yang_digunakan], centers=5, nstart=25)\n",
    "segmentasi$withinss\n",
    "segmentasi$tot.withinss"
   ]
  },
  {
   "cell_type": "markdown",
   "id": "ba75cca6",
   "metadata": {},
   "source": [
    "### Kesimpulan K-Means\n",
    "\n",
    "Function kmeans sederhana digunakan tapi outputnya memiliki informasi yang kaya yaitu:\n",
    "\n",
    "* Ukuran / jumlah titik data pada tiap cluster\n",
    "* Nilai rata-rata (centroid) dari tiap cluster\n",
    "* Vector item dari cluster\n",
    "* Jumlah jarak kuadrat dari tiap titik ke centroidnya (Sum of Squares atau SS)\n",
    "* Komponen-komponen informasi lain"
   ]
  },
  {
   "cell_type": "markdown",
   "id": "c57ab32d",
   "metadata": {},
   "source": [
    "### Grafik Garis\n",
    "\n",
    "Dari informasi yang dihasilkan oleh function kmeans, metrick Sum of Squares (SS) atau sering disebut Sum of Squared Errors (SSE) sangat penting untuk dijadikan dasar menentukan jumlah cluster yang paling optimal.\n",
    "\n",
    "Secara teoritis, berikut adalah beberapa hal yang bisa diamati dengan SS:\n",
    "\n",
    "* Semakin sedikit jumlah cluster yang dihasilkan maka semakin besar nilai SS.\n",
    "* Begitu juga sebaliknya, semakin banyak jumlah cluster yang dihasilkan maka semakin kecil nilai SS nya.\n",
    "* Karena sifatnya kuadratik, jika terdapat perbedaan yang cukup signifikan antara tiap kombinasi cluster maka perbedaan nilai SS akan semakin besar.\n",
    "* Dan seiring bertambahnya jumlah cluster, perbedaan tiap SS ini akan semakin kecil.\n",
    "\n",
    "Jika dimasukkan ke dalam grafik garis, maka plotting dari total SS untuk tiap cluster berbentuk sebagai berikut.\n",
    "\n",
    "![plot](images/plot.png)\n",
    "\n",
    "Titik paling kiri adalah jumlah SS untuk 1 jumlah cluster, titik kedua adalah untuk 2 jumlah cluster, dan seterusnya.Perhatikan semakin ke kanan perbedaan jarak antar tiap titik semakin mengecil.\n",
    "\n",
    "Grafik garis ini memiliki bentuk seperti siku tangan, dan untuk optimal jumlah cluster biasanya dapat dilakukan dengan mengambil titik sikunya. Pada contoh di atas dapat diambil 4 atau 5.\n",
    "\n",
    "Proses pengambilan keputusan berdasarkan plotting siku ini biasanya disebut **Elbow Effect** atau **Elbow Method**.\n",
    "\n",
    "Source : https://youtu.be/PcJXn1fIgJc"
   ]
  },
  {
   "cell_type": "markdown",
   "id": "4f4a580e",
   "metadata": {},
   "source": [
    "### Simulasi Jumlah Cluster dan SS\n",
    "\n",
    "Metrik elbow method yang digunakan sebagai basis justifikasi adalah Sum of Squares (SS), atau lebih tepatnya komponen tot.withinss dari objek kmeans.\n",
    "\n",
    "Metrik ini akan dicari progressive nilai tot.withinss untuk tiap kombinasi jumlah cluster, dan disimpan dalam bentuk vector di R.\n",
    "\n",
    "Untuk keperluan ini, akan digunakan *sapply*. Function *sapply* akan digunakan untuk memanggil function kmeans untuk suatu range jumlah cluster. Range ini akan menggunakan 1 sampai dengan 10.\n",
    "\n",
    "Code lengkapnya sebagai berikut:"
   ]
  },
  {
   "cell_type": "code",
   "execution_count": 10,
   "id": "c36b9ce9",
   "metadata": {},
   "outputs": [
    {
     "data": {
      "text/html": [
       "<style>\n",
       ".list-inline {list-style: none; margin:0; padding: 0}\n",
       ".list-inline>li {display: inline-block}\n",
       ".list-inline>li:not(:last-child)::after {content: \"\\00b7\"; padding: 0 .5ex}\n",
       "</style>\n",
       "<ol class=list-inline><li>10990.9740325902</li><li>3016.56115098999</li><li>1550.87245258579</li><li>1064.4186744681</li><li>829.967599003609</li><li>625.146176215474</li><li>508.156812409351</li><li>431.697737230219</li><li>374.109472124797</li><li>317.942393960025</li></ol>\n"
      ],
      "text/latex": [
       "\\begin{enumerate*}\n",
       "\\item 10990.9740325902\n",
       "\\item 3016.56115098999\n",
       "\\item 1550.87245258579\n",
       "\\item 1064.4186744681\n",
       "\\item 829.967599003609\n",
       "\\item 625.146176215474\n",
       "\\item 508.156812409351\n",
       "\\item 431.697737230219\n",
       "\\item 374.109472124797\n",
       "\\item 317.942393960025\n",
       "\\end{enumerate*}\n"
      ],
      "text/markdown": [
       "1. 10990.9740325902\n",
       "2. 3016.56115098999\n",
       "3. 1550.87245258579\n",
       "4. 1064.4186744681\n",
       "5. 829.967599003609\n",
       "6. 625.146176215474\n",
       "7. 508.156812409351\n",
       "8. 431.697737230219\n",
       "9. 374.109472124797\n",
       "10. 317.942393960025\n",
       "\n",
       "\n"
      ],
      "text/plain": [
       " [1] 10990.9740  3016.5612  1550.8725  1064.4187   829.9676   625.1462\n",
       " [7]   508.1568   431.6977   374.1095   317.9424"
      ]
     },
     "metadata": {},
     "output_type": "display_data"
    }
   ],
   "source": [
    "sse <- sapply(1:10,\n",
    "function(param_k)\n",
    "{\n",
    "kmeans(pelanggan[field_yang_digunakan], param_k, nstart=25)$tot.withinss\n",
    "}\n",
    ")\n",
    "sse"
   ]
  },
  {
   "cell_type": "markdown",
   "id": "ff855d9b",
   "metadata": {},
   "source": [
    "Berikut adalah penjelasan lengkap elemen-elemen perintah di atas\n",
    "\n",
    "![sapply](images/sapply.PNG)"
   ]
  },
  {
   "cell_type": "markdown",
   "id": "b3892545",
   "metadata": {},
   "source": [
    "### Grafik Elbow Effect\n",
    "\n",
    "Untuk melakukan visualisasi vector Sum of Squares (SS) atau Sum of Squared Errors (SSE) yang telah dihasilkan, maka dapat menggunakan ggplot, datasetnya berupa penggabungan data frame dari sse dan range nilai 1:10, dengan perintah berikut."
   ]
  },
  {
   "cell_type": "code",
   "execution_count": 13,
   "id": "6c298e34",
   "metadata": {},
   "outputs": [
    {
     "name": "stderr",
     "output_type": "stream",
     "text": [
      "Warning message:\n",
      "\"Continuous limits supplied to discrete scale.\n",
      "Did you mean `limits = factor(...)` or `scale_*_continuous()`?\"\n"
     ]
    },
    {
     "data": {
      "image/png": "[encoded data removed]",
      "text/plain": [
       "plot without title"
      ]
     },
     "metadata": {
      "image/png": {
       "height": 420,
       "width": 420
      }
     },
     "output_type": "display_data"
    }
   ],
   "source": [
    "library(ggplot2)\n",
    "jumlah_cluster_max <- 10\n",
    "ssdata = data.frame(cluster=c(1:jumlah_cluster_max),sse)\n",
    "ggplot(ssdata, aes(x=cluster,y=sse)) +\n",
    "                geom_line(color=\"red\") + geom_point() +\n",
    "                ylab(\"Within Cluster Sum of Squares\") + xlab(\"Jumlah Cluster\") +\n",
    "                geom_text(aes(label=format(round(sse, 2), nsmall = 2)),hjust=-0.2, vjust=-0.5) +\n",
    "  scale_x_discrete(limits=c(1:jumlah_cluster_max))"
   ]
  },
  {
   "cell_type": "markdown",
   "id": "1101a02a",
   "metadata": {},
   "source": [
    "Berikut adalah gambaran grafik yang akan dihasilkan – dengan pasangan indikator nomor yang menunjukkan perintah dan komponen grafik yang dihasilkan. Sebagai contoh, penomoran nomor 1 yaitu  geom_line(color=\"red\") menghasilkan grafik garis berwarna merah.\n",
    "\n",
    "![plot2](images/plot2.png)"
   ]
  },
  {
   "cell_type": "markdown",
   "id": "45f36665",
   "metadata": {},
   "source": [
    "Dengan memanfaatkan nilai Sum of Squares (SS) atau Sum of Squared Errors (SSE) dapat diambil keputusan jumlah segmentasi optimal yang digunakan.\n",
    "\n",
    "Ini dilakukan dengan membuat simulasi iterasi jumlah cluster dari 1 sampai dengan jumlah maksimum yang diinginkan.\n",
    "\n",
    "Setelah mendapatkan nilai SS dari tiap jumlah cluster, dapat dilakukan plotting ke grafik garis dan menggunakan elbow method untuk menentukan jumlah cluster optimal.\n",
    "\n",
    "Tahap berikutnya adalah mempaketkan objek kmeans ini dan semua informasi yang berkaitan sehingga dapat digunakan untuk operasional."
   ]
  },
  {
   "cell_type": "markdown",
   "id": "55e3f084",
   "metadata": {},
   "source": [
    "### Next Step\n",
    "\n",
    "Setelah berhasil mempersiapkan data, menggunakan algoritma kmeans, dan akhirnya bisa memutuskan jumlah cluster terbaik.\n",
    "\n",
    "Maka tahapan berikutnya adalah \"memaketkan\" atau \"membungkus\" seluruh referensi hasil konversi dan objek kmeans ini supaya bisa digunakan untuk mengolah data baru dan berguna di bisnis.\n",
    "\n",
    "Untuk ini tahapannya adalah sebagai berikut:\n",
    "\n",
    "* Menamakan cluster dengan karakteristik yang lebih mudah dimengerti. Penamaan ini disimpan dalam variable Segmen.Pelanggan.\n",
    "* Menggabungkan variable Segmen. Pelanggan, Profesi, Jenis.Kelamin, Tipe.Residen, dan Segmentasi ke dalam satu objek bertipe list ke dalam variable Identitas.Cluster.\n",
    "* Menyimpan objek Identitas.Cluster dalam bentuk file sehingga dapat digunakan kemudian, ini bisa disebut model."
   ]
  },
  {
   "cell_type": "markdown",
   "id": "909261b4",
   "metadata": {},
   "source": [
    "### Menamakan Segmen\n",
    "\n",
    "Selanjutnya akan dilakukan penamaan segmen sesuai dengan karakteristiknya. Untuk membantu, gambar berikut menunjukkan nilai mean tiap kolom yang digunakan tiap cluster dan juga nilai kolom sebelum konversi.\n",
    "\n",
    "![segmen](images/segmen.png)\n",
    "\n",
    "##### Penamaan Cluster\n",
    "\n",
    "* **Cluster 1** : Silver Youth Gals: alasannya adalah karena umurnya rata-rata adalah 20, wanita semua, profesinya bercampur antar pelajar dan professional serta pembelanjaan sekitar 6 juta.\n",
    "* **Cluster 2** : Diamond Senior Member: alasannya adalah karena umurnya rata-rata adalah 61 tahun dan pembelanjaan di atas 8 juta.\n",
    "* **Cluster 3** : Gold Young Professional: alasannya adalah karena umurnya rata-rata adalah 31 tahun, professional dan pembelanjaan cukup besar.\n",
    "* **Cluster 4** : Diamond Profesional: alasannya adalah karena umurnya rata-rata adalah 42 tahun, pembelanjaan paling tinggi dan semuanya professional.\n",
    "* **Cluster 5** : Silver Mid Professional: alasannya adalah karena umurnya rata-rata adalah 52 tahun dan pembelanjaan sekitar 6 juta.\n",
    "Selanjutnya penamaan diatas akan dimasukkan sebagai named vector."
   ]
  },
  {
   "cell_type": "code",
   "execution_count": 15,
   "id": "4ae74208",
   "metadata": {},
   "outputs": [
    {
     "data": {
      "text/html": [
       "<table class=\"dataframe\">\n",
       "<caption>A data.frame: 5 × 2</caption>\n",
       "<thead>\n",
       "\t<tr><th scope=col>cluster</th><th scope=col>Nama.Segmen</th></tr>\n",
       "\t<tr><th scope=col>&lt;dbl&gt;</th><th scope=col>&lt;chr&gt;</th></tr>\n",
       "</thead>\n",
       "<tbody>\n",
       "\t<tr><td>1</td><td>Silver Youth Gals      </td></tr>\n",
       "\t<tr><td>2</td><td>Diamond Senior Member  </td></tr>\n",
       "\t<tr><td>3</td><td>Gold Young Professional</td></tr>\n",
       "\t<tr><td>4</td><td>Diamond Professional   </td></tr>\n",
       "\t<tr><td>5</td><td>Silver Mid Professional</td></tr>\n",
       "</tbody>\n",
       "</table>\n"
      ],
      "text/latex": [
       "A data.frame: 5 × 2\n",
       "\\begin{tabular}{ll}\n",
       " cluster & Nama.Segmen\\\\\n",
       " <dbl> & <chr>\\\\\n",
       "\\hline\n",
       "\t 1 & Silver Youth Gals      \\\\\n",
       "\t 2 & Diamond Senior Member  \\\\\n",
       "\t 3 & Gold Young Professional\\\\\n",
       "\t 4 & Diamond Professional   \\\\\n",
       "\t 5 & Silver Mid Professional\\\\\n",
       "\\end{tabular}\n"
      ],
      "text/markdown": [
       "\n",
       "A data.frame: 5 × 2\n",
       "\n",
       "| cluster &lt;dbl&gt; | Nama.Segmen &lt;chr&gt; |\n",
       "|---|---|\n",
       "| 1 | Silver Youth Gals       |\n",
       "| 2 | Diamond Senior Member   |\n",
       "| 3 | Gold Young Professional |\n",
       "| 4 | Diamond Professional    |\n",
       "| 5 | Silver Mid Professional |\n",
       "\n"
      ],
      "text/plain": [
       "  cluster Nama.Segmen            \n",
       "1 1       Silver Youth Gals      \n",
       "2 2       Diamond Senior Member  \n",
       "3 3       Gold Young Professional\n",
       "4 4       Diamond Professional   \n",
       "5 5       Silver Mid Professional"
      ]
     },
     "metadata": {},
     "output_type": "display_data"
    }
   ],
   "source": [
    "#Penamaan Segmen\n",
    "Segmen.Pelanggan <- data.frame(cluster=c(1,2,3,4,5),Nama.Segmen=c(\"Silver Youth Gals\",\"Diamond Senior Member\",\"Gold Young Professional\",\"Diamond Professional\",\"Silver Mid Professional\"))\n",
    "Segmen.Pelanggan"
   ]
  },
  {
   "cell_type": "markdown",
   "id": "fd311626",
   "metadata": {},
   "source": [
    "### Menggabungkan Referensi\n",
    "\n",
    "Sejauh ini telah didapatkan pembentukan aset-aset data sebagai berikut:\n",
    "\n",
    "* Dataset pelanggan yang telah \"diperkaya\" dengan tambahan kolom hasil konversi teks menjadi numerik, dan menormalisasikan field **NilaiBelanjaSetahun**.\n",
    "* Objek **kmeans** dengan k=5, dipilih berdasarkan metodologi menggunakan metrik Sum of Squares (SS).\n",
    "* Membuat variable referensi atau pemetaan numerik dan teks asli (kategori) dari kolom **Jenis Kelamin**, **Profesi** dan **Tipe Residen**.\n",
    "* Variable data.frame dengan nama **Pelanggan** yang berisi penamaan cluster sesuai analisa karakteristik dari centroid kolom-kolom pelanggan yang digunakan.\n",
    "* Vector dari field yang digunakan.\n",
    "\n",
    "Akan sangat baik jika semuanya digabungkan di satu variable dengan tipe list, dan ini akan jadi model yang dapat disimpan ke dalam file dan digunakan ketika diperlukan."
   ]
  },
  {
   "cell_type": "code",
   "execution_count": 17,
   "id": "c952bc72",
   "metadata": {},
   "outputs": [],
   "source": [
    "#Membaca data csv dan dimasukkan ke variable pelanggan\n",
    "pelanggan <- read.csv(\"dataset/customer_segments.txt\", sep=\"\\t\")\n",
    "pelanggan_matrix <- data.matrix(pelanggan[c(\"Jenis.Kelamin\", \"Profesi\", \"Tipe.Residen\")])\n",
    "pelanggan <- data.frame(pelanggan, pelanggan_matrix)\n",
    "pelanggan$NilaiBelanjaSetahun = pelanggan$NilaiBelanjaSetahun/1000000\n",
    "Profesi <- unique(pelanggan[c(\"Profesi\",\"Profesi.1\")])\n",
    "Jenis.Kelamin <- unique(pelanggan[c(\"Jenis.Kelamin\",\"Jenis.Kelamin.1\")])\n",
    "Tipe.Residen <- unique(pelanggan[c(\"Tipe.Residen\",\"Tipe.Residen.1\")])\n",
    "\n",
    "#Bagian K-Means\n",
    "set.seed(100)\n",
    "field_yang_digunakan = c(\"Jenis.Kelamin.1\", \"Umur\", \"Profesi.1\", \"Tipe.Residen.1\",\"NilaiBelanjaSetahun\")\n",
    "segmentasi <- kmeans(x=pelanggan[field_yang_digunakan], centers=5, nstart=25)\n",
    "Segmen.Pelanggan <- data.frame(cluster=c(1,2,3,4,5), Nama.Segmen=c(\"Silver Youth Gals\", \"Diamond Senior Member\", \"Gold Young Professional\", \"Diamond Professional\", \"Silver Mid Professional\"))\n",
    "\n",
    "#Menggabungkan seluruh aset ke dalam variable Identitas.Cluster\n",
    "Identitas.Cluster <- list(Profesi=Profesi, Jenis.Kelamin=Jenis.Kelamin, Tipe.Residen=Tipe.Residen, Segmentasi=segmentasi, Segmen.Pelanggan=Segmen.Pelanggan, field_yang_digunakan=field_yang_digunakan)"
   ]
  },
  {
   "cell_type": "code",
   "execution_count": 18,
   "id": "8ad70623",
   "metadata": {},
   "outputs": [
    {
     "data": {
      "text/plain": [
       "$Profesi\n",
       "            Profesi Profesi.1\n",
       "1        Wiraswasta         5\n",
       "2           Pelajar         3\n",
       "3      Professional         4\n",
       "17 Ibu Rumah Tangga         1\n",
       "31        Mahasiswa         2\n",
       "\n",
       "$Jenis.Kelamin\n",
       "  Jenis.Kelamin Jenis.Kelamin.1\n",
       "1          Pria               1\n",
       "2        Wanita               2\n",
       "\n",
       "$Tipe.Residen\n",
       "  Tipe.Residen Tipe.Residen.1\n",
       "1       Sector              2\n",
       "2      Cluster              1\n",
       "\n",
       "$Segmentasi\n",
       "K-means clustering with 5 clusters of sizes 5, 12, 14, 9, 10\n",
       "\n",
       "Cluster means:\n",
       "  Jenis.Kelamin.1     Umur Profesi.1 Tipe.Residen.1 NilaiBelanjaSetahun\n",
       "1            1.40 61.80000  4.200000       1.400000            8.696132\n",
       "2            1.75 31.58333  3.916667       1.250000            7.330958\n",
       "3            2.00 20.07143  3.571429       1.357143            5.901089\n",
       "4            2.00 42.33333  4.000000       1.555556            8.804791\n",
       "5            1.70 52.50000  3.800000       1.300000            6.018321\n",
       "\n",
       "Clustering vector:\n",
       " [1] 1 3 5 5 4 3 1 5 2 2 5 5 1 1 3 2 2 1 2 3 4 5 2 4 2 5 2 4 5 4 3 4 3 3 4 2 3 4\n",
       "[39] 3 3 3 2 2 3 3 3 5 4 2 5\n",
       "\n",
       "Within cluster sum of squares by cluster:\n",
       "[1]  58.21123 174.85164 316.73367 171.67372 108.49735\n",
       " (between_SS / total_SS =  92.4 %)\n",
       "\n",
       "Available components:\n",
       "\n",
       "[1] \"cluster\"      \"centers\"      \"totss\"        \"withinss\"     \"tot.withinss\"\n",
       "[6] \"betweenss\"    \"size\"         \"iter\"         \"ifault\"      \n",
       "\n",
       "$Segmen.Pelanggan\n",
       "  cluster             Nama.Segmen\n",
       "1       1       Silver Youth Gals\n",
       "2       2   Diamond Senior Member\n",
       "3       3 Gold Young Professional\n",
       "4       4    Diamond Professional\n",
       "5       5 Silver Mid Professional\n",
       "\n",
       "$field_yang_digunakan\n",
       "[1] \"Jenis.Kelamin.1\"     \"Umur\"                \"Profesi.1\"          \n",
       "[4] \"Tipe.Residen.1\"      \"NilaiBelanjaSetahun\"\n"
      ]
     },
     "metadata": {},
     "output_type": "display_data"
    }
   ],
   "source": [
    "Identitas.Cluster"
   ]
  },
  {
   "cell_type": "markdown",
   "id": "c251d947",
   "metadata": {},
   "source": [
    "### Menyimpan Objek dalam Bentuk File\n",
    "\n",
    "Objek yang sudah digabungkan sebelumnya sudah memiliki semua aset yang diperlukan untuk mengalokasikan data baru ke segmen yang sesuai.\n",
    "\n",
    "Untuk menyimpan objek ini ke dalam file, dapat menggunakan function **saveRDS**. File ini kemudian dapat dibuka kembali sebagai objek ke depannya.\n",
    "\n",
    "Sebagai contoh, perintah untuk menyimpan objek **Identitas.Cluster** ke file **cluster.rds** adalah sebagai berikut."
   ]
  },
  {
   "cell_type": "code",
   "execution_count": 19,
   "id": "997f8ff8",
   "metadata": {},
   "outputs": [],
   "source": [
    "saveRDS(Identitas.Cluster,\"cluster.rds\")"
   ]
  },
  {
   "cell_type": "markdown",
   "id": "3665040e",
   "metadata": {},
   "source": [
    "Seluruh aset yang diperlukan untuk membentuk suatu model telah berhasil digabungkan.\n",
    "\n",
    "Model ini adalah objek yang bisa digunakan untuk mengolah data baru dan terdiri dari objek kmeans, variable referensi hasil konversi teks ke numerik, dan juga penamaan cluster."
   ]
  },
  {
   "cell_type": "markdown",
   "id": "5ace2a84",
   "metadata": {},
   "source": [
    "### Mengoperasionalkan Model\n",
    "\n",
    "Ini artinya objek hasil pengolahan algoritma K-Means dan variable-variable terkait yang telah dihasilkan sebelumnya harus dapat digunakan ke kasus riil sehingga satu siklus lengkap terjadi.\n",
    "\n",
    "Kasus riil untuk clustering yang digunakan adalah cukup sederhana: bagaimana data baru dapat otomatis membantu tim marketing dan CRM untuk mengidentifikasi segmen mana pelanggan tersebut berada dengan cepat.\n",
    "\n",
    "Dengan kecepatan identifikasi, maka organisasi atau bisnis dapat dengan cepat bergerak dengan pesan marketing yang efektif dan memenangkan persaingan."
   ]
  },
  {
   "cell_type": "markdown",
   "id": "0a2ae19d",
   "metadata": {},
   "source": [
    "### Data Baru\n",
    "\n",
    "Pada teks sebelumnya, disebutkan data pelanggan baru harus cepat dipetakan ke segmen.\n",
    "\n",
    "Dengan asumsi tiap data pelanggan baru diinput ke dalam sistem, maka pengolahan adalah per record. Dalam kasus ini, akan dibuat data.frame dengan satu data dimana nama-nama kolomnya persis dengan dataset awal."
   ]
  },
  {
   "cell_type": "code",
   "execution_count": 20,
   "id": "ebc3b815",
   "metadata": {},
   "outputs": [
    {
     "data": {
      "text/html": [
       "<table class=\"dataframe\">\n",
       "<caption>A data.frame: 1 × 7</caption>\n",
       "<thead>\n",
       "\t<tr><th scope=col>Customer_ID</th><th scope=col>Nama.Pelanggan</th><th scope=col>Umur</th><th scope=col>Jenis.Kelamin</th><th scope=col>Profesi</th><th scope=col>Tipe.Residen</th><th scope=col>NilaiBelanjaSetahun</th></tr>\n",
       "\t<tr><th scope=col>&lt;chr&gt;</th><th scope=col>&lt;chr&gt;</th><th scope=col>&lt;dbl&gt;</th><th scope=col>&lt;chr&gt;</th><th scope=col>&lt;chr&gt;</th><th scope=col>&lt;chr&gt;</th><th scope=col>&lt;dbl&gt;</th></tr>\n",
       "</thead>\n",
       "<tbody>\n",
       "\t<tr><td>CUST-100</td><td>Rudi Wilamar</td><td>20</td><td>Wanita</td><td>Pelajar</td><td>Cluster</td><td>3.5</td></tr>\n",
       "</tbody>\n",
       "</table>\n"
      ],
      "text/latex": [
       "A data.frame: 1 × 7\n",
       "\\begin{tabular}{lllllll}\n",
       " Customer\\_ID & Nama.Pelanggan & Umur & Jenis.Kelamin & Profesi & Tipe.Residen & NilaiBelanjaSetahun\\\\\n",
       " <chr> & <chr> & <dbl> & <chr> & <chr> & <chr> & <dbl>\\\\\n",
       "\\hline\n",
       "\t CUST-100 & Rudi Wilamar & 20 & Wanita & Pelajar & Cluster & 3.5\\\\\n",
       "\\end{tabular}\n"
      ],
      "text/markdown": [
       "\n",
       "A data.frame: 1 × 7\n",
       "\n",
       "| Customer_ID &lt;chr&gt; | Nama.Pelanggan &lt;chr&gt; | Umur &lt;dbl&gt; | Jenis.Kelamin &lt;chr&gt; | Profesi &lt;chr&gt; | Tipe.Residen &lt;chr&gt; | NilaiBelanjaSetahun &lt;dbl&gt; |\n",
       "|---|---|---|---|---|---|---|\n",
       "| CUST-100 | Rudi Wilamar | 20 | Wanita | Pelajar | Cluster | 3.5 |\n",
       "\n"
      ],
      "text/plain": [
       "  Customer_ID Nama.Pelanggan Umur Jenis.Kelamin Profesi Tipe.Residen\n",
       "1 CUST-100    Rudi Wilamar   20   Wanita        Pelajar Cluster     \n",
       "  NilaiBelanjaSetahun\n",
       "1 3.5                "
      ]
     },
     "metadata": {},
     "output_type": "display_data"
    }
   ],
   "source": [
    "databaru<-data.frame(Customer_ID=\"CUST-100\", Nama.Pelanggan=\"Rudi Wilamar\",Umur=20,Jenis.Kelamin=\"Wanita\",Profesi=\"Pelajar\",Tipe.Residen=\"Cluster\",NilaiBelanjaSetahun=3.5)\n",
    "databaru"
   ]
  },
  {
   "cell_type": "markdown",
   "id": "e1943f90",
   "metadata": {},
   "source": [
    "### Memuat Objek Clustering dari File\n",
    "\n",
    "Langkah selanjutnya adalah membuka file yang telah disimpan sebelumnya dengan perintah dan dikenali di R sebagai objek yang akan digunakan untuk mengolah data baru.\n",
    "\n",
    "Untuk membuka file tersebut, dapat menggunakan function readRDS.\n",
    "\n",
    "Perintahnya sangat sederhana, berikut adalah contoh untuk membuka file cluster.rds yang telah disimpan sebelumnya."
   ]
  },
  {
   "cell_type": "code",
   "execution_count": 21,
   "id": "03478add",
   "metadata": {},
   "outputs": [
    {
     "data": {
      "text/plain": [
       "$Profesi\n",
       "            Profesi Profesi.1\n",
       "1        Wiraswasta         5\n",
       "2           Pelajar         3\n",
       "3      Professional         4\n",
       "17 Ibu Rumah Tangga         1\n",
       "31        Mahasiswa         2\n",
       "\n",
       "$Jenis.Kelamin\n",
       "  Jenis.Kelamin Jenis.Kelamin.1\n",
       "1          Pria               1\n",
       "2        Wanita               2\n",
       "\n",
       "$Tipe.Residen\n",
       "  Tipe.Residen Tipe.Residen.1\n",
       "1       Sector              2\n",
       "2      Cluster              1\n",
       "\n",
       "$Segmentasi\n",
       "K-means clustering with 5 clusters of sizes 5, 12, 14, 9, 10\n",
       "\n",
       "Cluster means:\n",
       "  Jenis.Kelamin.1     Umur Profesi.1 Tipe.Residen.1 NilaiBelanjaSetahun\n",
       "1            1.40 61.80000  4.200000       1.400000            8.696132\n",
       "2            1.75 31.58333  3.916667       1.250000            7.330958\n",
       "3            2.00 20.07143  3.571429       1.357143            5.901089\n",
       "4            2.00 42.33333  4.000000       1.555556            8.804791\n",
       "5            1.70 52.50000  3.800000       1.300000            6.018321\n",
       "\n",
       "Clustering vector:\n",
       " [1] 1 3 5 5 4 3 1 5 2 2 5 5 1 1 3 2 2 1 2 3 4 5 2 4 2 5 2 4 5 4 3 4 3 3 4 2 3 4\n",
       "[39] 3 3 3 2 2 3 3 3 5 4 2 5\n",
       "\n",
       "Within cluster sum of squares by cluster:\n",
       "[1]  58.21123 174.85164 316.73367 171.67372 108.49735\n",
       " (between_SS / total_SS =  92.4 %)\n",
       "\n",
       "Available components:\n",
       "\n",
       "[1] \"cluster\"      \"centers\"      \"totss\"        \"withinss\"     \"tot.withinss\"\n",
       "[6] \"betweenss\"    \"size\"         \"iter\"         \"ifault\"      \n",
       "\n",
       "$Segmen.Pelanggan\n",
       "  cluster             Nama.Segmen\n",
       "1       1       Silver Youth Gals\n",
       "2       2   Diamond Senior Member\n",
       "3       3 Gold Young Professional\n",
       "4       4    Diamond Professional\n",
       "5       5 Silver Mid Professional\n",
       "\n",
       "$field_yang_digunakan\n",
       "[1] \"Jenis.Kelamin.1\"     \"Umur\"                \"Profesi.1\"          \n",
       "[4] \"Tipe.Residen.1\"      \"NilaiBelanjaSetahun\"\n"
      ]
     },
     "metadata": {},
     "output_type": "display_data"
    }
   ],
   "source": [
    "Identitas.Cluster <- readRDS(file=\"cluster.rds\")\n",
    "Identitas.Cluster"
   ]
  },
  {
   "cell_type": "markdown",
   "id": "b83ae0b1",
   "metadata": {},
   "source": [
    "### Merge dengan Data Referensi\n",
    "\n",
    "Dengan adanya data baru dan objek yang berisi data referensi telah dibaca kembali, selanjutnya data baru ini dapat digabungkan untuk mendapatkan konversi numerik dari field **Jenis.Kelamin**, **Profesi** dan **Tipe.Residen**.\n",
    "\n",
    "Tujuannya adalah untuk bisa mencari segmen pelanggannya dengan data numerik hasil penggabungan.\n",
    "\n",
    "Cara menggabungkannya adalah dengan menggunakan function **merge**, dimana kedua data akan digabungkan dengan mencari persamaan nama kolom dan isinya.\n",
    "\n",
    "Sebagai contoh, perintah berikut akan menggabungkan variable databaru dengan variable **Identitas.Cluster$Profesi**.\n",
    "\n",
    "    merge(databaru, Identitas.Cluster$Profesi)"
   ]
  },
  {
   "cell_type": "markdown",
   "id": "7fe1d8bf",
   "metadata": {},
   "source": [
    "Maka prosesnya akan terlihat sebagai berikut.\n",
    "\n",
    "![merge](images/merge.png)\n",
    "\n",
    "* Variable databaru dengan Identitas.Cluster\\$Profesi memiliki nama kolom yang sama, yaitu Profesi.\n",
    "* Kolom Profesi kemudian akan dijadikan \"kunci\" untuk menggabungkan kedua variable ini.\n",
    "* Ternyata isi Profesi dari databaru, yaitu \"Pelajar\" juga terdapat di Identitas.Cluster. Ini akan membuat penggabungan menjadi berhasil.\n",
    "* Penggabungan ini juga akan mengambil kolom Profesi.1 dan isi data yang terkait dengan Pelajar, yaitu nilai 3.\n",
    "\n",
    "Berikut adalah hasil akhirnya."
   ]
  },
  {
   "cell_type": "code",
   "execution_count": 25,
   "id": "ab7b3ef6",
   "metadata": {},
   "outputs": [
    {
     "data": {
      "text/html": [
       "<table class=\"dataframe\">\n",
       "<caption>A data.frame: 1 × 8</caption>\n",
       "<thead>\n",
       "\t<tr><th scope=col>Profesi</th><th scope=col>Customer_ID</th><th scope=col>Nama.Pelanggan</th><th scope=col>Umur</th><th scope=col>Jenis.Kelamin</th><th scope=col>Tipe.Residen</th><th scope=col>NilaiBelanjaSetahun</th><th scope=col>Profesi.1</th></tr>\n",
       "\t<tr><th scope=col>&lt;chr&gt;</th><th scope=col>&lt;chr&gt;</th><th scope=col>&lt;chr&gt;</th><th scope=col>&lt;dbl&gt;</th><th scope=col>&lt;chr&gt;</th><th scope=col>&lt;chr&gt;</th><th scope=col>&lt;dbl&gt;</th><th scope=col>&lt;int&gt;</th></tr>\n",
       "</thead>\n",
       "<tbody>\n",
       "\t<tr><td>Pelajar</td><td>CUST-100</td><td>Rudi Wilamar</td><td>20</td><td>Wanita</td><td>Cluster</td><td>3.5</td><td>3</td></tr>\n",
       "</tbody>\n",
       "</table>\n"
      ],
      "text/latex": [
       "A data.frame: 1 × 8\n",
       "\\begin{tabular}{llllllll}\n",
       " Profesi & Customer\\_ID & Nama.Pelanggan & Umur & Jenis.Kelamin & Tipe.Residen & NilaiBelanjaSetahun & Profesi.1\\\\\n",
       " <chr> & <chr> & <chr> & <dbl> & <chr> & <chr> & <dbl> & <int>\\\\\n",
       "\\hline\n",
       "\t Pelajar & CUST-100 & Rudi Wilamar & 20 & Wanita & Cluster & 3.5 & 3\\\\\n",
       "\\end{tabular}\n"
      ],
      "text/markdown": [
       "\n",
       "A data.frame: 1 × 8\n",
       "\n",
       "| Profesi &lt;chr&gt; | Customer_ID &lt;chr&gt; | Nama.Pelanggan &lt;chr&gt; | Umur &lt;dbl&gt; | Jenis.Kelamin &lt;chr&gt; | Tipe.Residen &lt;chr&gt; | NilaiBelanjaSetahun &lt;dbl&gt; | Profesi.1 &lt;int&gt; |\n",
       "|---|---|---|---|---|---|---|---|\n",
       "| Pelajar | CUST-100 | Rudi Wilamar | 20 | Wanita | Cluster | 3.5 | 3 |\n",
       "\n"
      ],
      "text/plain": [
       "  Profesi Customer_ID Nama.Pelanggan Umur Jenis.Kelamin Tipe.Residen\n",
       "1 Pelajar CUST-100    Rudi Wilamar   20   Wanita        Cluster     \n",
       "  NilaiBelanjaSetahun Profesi.1\n",
       "1 3.5                 3        "
      ]
     },
     "metadata": {},
     "output_type": "display_data"
    }
   ],
   "source": [
    "merge(databaru, Identitas.Cluster$Profesi)"
   ]
  },
  {
   "cell_type": "markdown",
   "id": "74749cb3",
   "metadata": {},
   "source": [
    "Perhatikan kalau kolom kunci, yaitu Profesi digeser ke depan. Dan sisanya adalah kolom-kolom dari kedua variable."
   ]
  },
  {
   "cell_type": "code",
   "execution_count": 26,
   "id": "a62d2efa",
   "metadata": {},
   "outputs": [
    {
     "data": {
      "text/html": [
       "<table class=\"dataframe\">\n",
       "<caption>A data.frame: 1 × 9</caption>\n",
       "<thead>\n",
       "\t<tr><th scope=col>Tipe.Residen</th><th scope=col>Jenis.Kelamin</th><th scope=col>Profesi</th><th scope=col>Customer_ID</th><th scope=col>Nama.Pelanggan</th><th scope=col>NilaiBelanjaSetahun</th><th scope=col>Profesi.1</th><th scope=col>Jenis.Kelamin.1</th><th scope=col>Tipe.Residen.1</th></tr>\n",
       "\t<tr><th scope=col>&lt;chr&gt;</th><th scope=col>&lt;chr&gt;</th><th scope=col>&lt;chr&gt;</th><th scope=col>&lt;chr&gt;</th><th scope=col>&lt;chr&gt;</th><th scope=col>&lt;dbl&gt;</th><th scope=col>&lt;int&gt;</th><th scope=col>&lt;int&gt;</th><th scope=col>&lt;int&gt;</th></tr>\n",
       "</thead>\n",
       "<tbody>\n",
       "\t<tr><td>Cluster</td><td>Wanita</td><td>Pelajar</td><td>CUST-100</td><td>Rudi Wilamar</td><td>3.5</td><td>3</td><td>2</td><td>1</td></tr>\n",
       "</tbody>\n",
       "</table>\n"
      ],
      "text/latex": [
       "A data.frame: 1 × 9\n",
       "\\begin{tabular}{lllllllll}\n",
       " Tipe.Residen & Jenis.Kelamin & Profesi & Customer\\_ID & Nama.Pelanggan & NilaiBelanjaSetahun & Profesi.1 & Jenis.Kelamin.1 & Tipe.Residen.1\\\\\n",
       " <chr> & <chr> & <chr> & <chr> & <chr> & <dbl> & <int> & <int> & <int>\\\\\n",
       "\\hline\n",
       "\t Cluster & Wanita & Pelajar & CUST-100 & Rudi Wilamar & 3.5 & 3 & 2 & 1\\\\\n",
       "\\end{tabular}\n"
      ],
      "text/markdown": [
       "\n",
       "A data.frame: 1 × 9\n",
       "\n",
       "| Tipe.Residen &lt;chr&gt; | Jenis.Kelamin &lt;chr&gt; | Profesi &lt;chr&gt; | Customer_ID &lt;chr&gt; | Nama.Pelanggan &lt;chr&gt; | NilaiBelanjaSetahun &lt;dbl&gt; | Profesi.1 &lt;int&gt; | Jenis.Kelamin.1 &lt;int&gt; | Tipe.Residen.1 &lt;int&gt; |\n",
       "|---|---|---|---|---|---|---|---|---|\n",
       "| Cluster | Wanita | Pelajar | CUST-100 | Rudi Wilamar | 3.5 | 3 | 2 | 1 |\n",
       "\n"
      ],
      "text/plain": [
       "  Tipe.Residen Jenis.Kelamin Profesi Customer_ID Nama.Pelanggan\n",
       "1 Cluster      Wanita        Pelajar CUST-100    Rudi Wilamar  \n",
       "  NilaiBelanjaSetahun Profesi.1 Jenis.Kelamin.1 Tipe.Residen.1\n",
       "1 3.5                 3         2               1             "
      ]
     },
     "metadata": {},
     "output_type": "display_data"
    }
   ],
   "source": [
    "databaru <- data.frame(Customer_ID=\"CUST-100\", Nama.Pelanggan=\"Rudi Wilamar\",Jenis.Kelamin=\"Wanita\",Profesi=\"Pelajar\",Tipe.Residen=\"Cluster\",NilaiBelanjaSetahun=3.5)\n",
    "Identitas.Cluster <- readRDS(file=\"cluster.rds\")\n",
    "#Masukkan perintah untuk penggabungan data\n",
    "databaru <- merge(databaru, Identitas.Cluster$Profesi)\n",
    "databaru <- merge(databaru, Identitas.Cluster$Jenis.Kelamin)\n",
    "databaru <- merge(databaru, Identitas.Cluster$Tipe.Residen)\n",
    "databaru"
   ]
  },
  {
   "cell_type": "markdown",
   "id": "f0bae323",
   "metadata": {},
   "source": [
    "### Menentukan Cluster\n",
    "\n",
    "Selanjutnya adalah penentuan terpenting bagi bisnis: data baru ini masuk ke segmen mana?\n",
    "\n",
    "Yaitu dengan tahapan berikut:\n",
    "\n",
    "* mencari jarak kuadrat minimum atau terdekat\n",
    "* dari kolom numerik data baru tersebut\n",
    "* ke centroid kolom terkait\n",
    "* dari seluruh cluster yang ada\n",
    "\n",
    "Kalau diterjemahkan jadi rumus sebagai berikut:\n",
    "    \n",
    "    which.min(sapply( 1:5, function( x ) sum( ( data[kolom] - objekkmeans$centers[x,])^2 ) ))\n",
    "   \n",
    "dimana:\n",
    "\n",
    "* min: merupakan function untuk mencari nilai minimum\n",
    "* 1:5 : adalah range nomor cluster dari 1 sampai dengan 5 (atau lebih sesuai dengan ukuran cluster)\n",
    "* sapply: digunakan untuk melakukan iterasi berdasarkan range (dalam kasus ini 1 s/d 5)\n",
    "* function(x): digunakan untuk proses dengan x diisi 1 s/d 5 per proses\n",
    "(data[kolom] – objekkmeans$centers[x,]) ^2: adalah jarak kuadrat data. Ingat centers adalah komponen dari objek kmeans.\n",
    "* sum: digunakan untuk menjumlahkan jarak kuadrat"
   ]
  },
  {
   "cell_type": "code",
   "execution_count": 27,
   "id": "6f0de043",
   "metadata": {},
   "outputs": [
    {
     "data": {
      "text/html": [
       "<table class=\"dataframe\">\n",
       "<caption>A data.frame: 1 × 2</caption>\n",
       "<thead>\n",
       "\t<tr><th></th><th scope=col>cluster</th><th scope=col>Nama.Segmen</th></tr>\n",
       "\t<tr><th></th><th scope=col>&lt;dbl&gt;</th><th scope=col>&lt;chr&gt;</th></tr>\n",
       "</thead>\n",
       "<tbody>\n",
       "\t<tr><th scope=row>2</th><td>2</td><td>Diamond Senior Member</td></tr>\n",
       "</tbody>\n",
       "</table>\n"
      ],
      "text/latex": [
       "A data.frame: 1 × 2\n",
       "\\begin{tabular}{r|ll}\n",
       "  & cluster & Nama.Segmen\\\\\n",
       "  & <dbl> & <chr>\\\\\n",
       "\\hline\n",
       "\t2 & 2 & Diamond Senior Member\\\\\n",
       "\\end{tabular}\n"
      ],
      "text/markdown": [
       "\n",
       "A data.frame: 1 × 2\n",
       "\n",
       "| <!--/--> | cluster &lt;dbl&gt; | Nama.Segmen &lt;chr&gt; |\n",
       "|---|---|---|\n",
       "| 2 | 2 | Diamond Senior Member |\n",
       "\n"
      ],
      "text/plain": [
       "  cluster Nama.Segmen          \n",
       "2 2       Diamond Senior Member"
      ]
     },
     "metadata": {},
     "output_type": "display_data"
    }
   ],
   "source": [
    "#membuat data baru\n",
    "databaru <- data.frame(Customer_ID=\"CUST-100\", Nama.Pelanggan=\"Rudi Wilamar\",Umur=32,Jenis.Kelamin=\"Wanita\",Profesi=\"Pelajar\",Tipe.Residen=\"Cluster\",NilaiBelanjaSetahun=3.5)\n",
    "\n",
    "Identitas.Cluster <- readRDS(file=\"cluster.rds\")\n",
    "\n",
    "databaru <- merge(databaru, Identitas.Cluster$Profesi)\n",
    "databaru <- merge(databaru, Identitas.Cluster$Jenis.Kelamin)\n",
    "databaru <- merge(databaru, Identitas.Cluster$Tipe.Residen)\n",
    "\n",
    "#menentukan data baru di cluster mana\n",
    "Identitas.Cluster$Segmen.Pelanggan[which.min(sapply( 1:5, function( x ) sum( ( databaru[Identitas.Cluster$field_yang_digunakan] - Identitas.Cluster$Segmentasi$centers[x,])^2 ) )),]"
   ]
  },
  {
   "cell_type": "markdown",
   "id": "4de66495",
   "metadata": {},
   "source": [
    "Hasil diatas menunjukkan bagaimana data pelanggan baru dianalisa oleh model dan mengeluarkan nomor cluster atau segmen.\n",
    "\n",
    "*Source : https://academy.dqlab.id/*"
   ]
  }
 ],
 "metadata": {
  "kernelspec": {
   "display_name": "R 4.0.0",
   "language": "R",
   "name": "ir35"
  },
  "language_info": {
   "codemirror_mode": "r",
   "file_extension": ".r",
   "mimetype": "text/x-r-source",
   "name": "R",
   "pygments_lexer": "r",
   "version": "4.1.2"
  }
 },
 "nbformat": 4,
 "nbformat_minor": 5
}
